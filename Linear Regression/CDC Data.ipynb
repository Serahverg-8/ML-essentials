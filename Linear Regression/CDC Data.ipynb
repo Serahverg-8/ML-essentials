{
 "cells": [
  {
   "cell_type": "markdown",
   "id": "933b08ab",
   "metadata": {},
   "source": [
    "This dataset includes data on adult's diet, physical activity, and weight status from Behavioral Risk Factor Surveillance System. This data is used for DNPAO's Data, Trends, and Maps database, which provides national and state specific data on obesity, nutrition, physical activity, and breastfeeding."
   ]
  },
  {
   "cell_type": "code",
   "execution_count": 1,
   "id": "f1a13e39",
   "metadata": {},
   "outputs": [],
   "source": [
    "import numpy as np # math arrays manipulation\n",
    "import pandas as pd # for data management\n",
    "import matplotlib.pyplot as plt #plots\n",
    "import seaborn as sns #plots"
   ]
  },
  {
   "cell_type": "code",
   "execution_count": 2,
   "id": "928a6282",
   "metadata": {},
   "outputs": [],
   "source": [
    "# conda install -c conda-forge statsmodels"
   ]
  },
  {
   "cell_type": "code",
   "execution_count": 67,
   "id": "b2b263ff",
   "metadata": {},
   "outputs": [],
   "source": [
    "df=pd.read_csv(\"Nutrition.csv\")"
   ]
  },
  {
   "cell_type": "code",
   "execution_count": 68,
   "id": "fe1511de",
   "metadata": {},
   "outputs": [
    {
     "name": "stdout",
     "output_type": "stream",
     "text": [
      "<class 'pandas.core.frame.DataFrame'>\n",
      "RangeIndex: 53392 entries, 0 to 53391\n",
      "Data columns (total 33 columns):\n",
      " #   Column                      Non-Null Count  Dtype  \n",
      "---  ------                      --------------  -----  \n",
      " 0   YearStart                   53392 non-null  int64  \n",
      " 1   YearEnd                     53392 non-null  int64  \n",
      " 2   LocationAbbr                53392 non-null  object \n",
      " 3   LocationDesc                53392 non-null  object \n",
      " 4   Datasource                  53392 non-null  object \n",
      " 5   Class                       53392 non-null  object \n",
      " 6   Topic                       53392 non-null  object \n",
      " 7   Question                    53392 non-null  object \n",
      " 8   Data_Value_Unit             0 non-null      float64\n",
      " 9   Data_Value_Type             53392 non-null  object \n",
      " 10  Data_Value                  48346 non-null  float64\n",
      " 11  Data_Value_Alt              48346 non-null  float64\n",
      " 12  Data_Value_Footnote_Symbol  5046 non-null   object \n",
      " 13  Data_Value_Footnote         5046 non-null   object \n",
      " 14  Low_Confidence_Limit        48346 non-null  float64\n",
      " 15  High_Confidence_Limit       48346 non-null  float64\n",
      " 16  Sample_Size                 48346 non-null  float64\n",
      " 17  Total                       1907 non-null   object \n",
      " 18  Age(years)                  11438 non-null  object \n",
      " 19  Education                   7628 non-null   object \n",
      " 20  Gender                      3814 non-null   object \n",
      " 21  Income                      13349 non-null  object \n",
      " 22  Race/Ethnicity              15256 non-null  object \n",
      " 23  GeoLocation                 52384 non-null  object \n",
      " 24  ClassID                     53392 non-null  object \n",
      " 25  TopicID                     53392 non-null  object \n",
      " 26  QuestionID                  53392 non-null  object \n",
      " 27  DataValueTypeID             53392 non-null  object \n",
      " 28  LocationID                  53392 non-null  int64  \n",
      " 29  StratificationCategory1     53392 non-null  object \n",
      " 30  Stratification1             53392 non-null  object \n",
      " 31  StratificationCategoryId1   53392 non-null  object \n",
      " 32  StratificationID1           53392 non-null  object \n",
      "dtypes: float64(6), int64(3), object(24)\n",
      "memory usage: 13.4+ MB\n"
     ]
    }
   ],
   "source": [
    "df.info()"
   ]
  },
  {
   "cell_type": "code",
   "execution_count": 69,
   "id": "2ebffb14",
   "metadata": {},
   "outputs": [
    {
     "data": {
      "text/plain": [
       "YearStart                                                                  2011\n",
       "YearEnd                                                                    2011\n",
       "LocationAbbr                                                                 AL\n",
       "LocationDesc                                                            Alabama\n",
       "Datasource                           Behavioral Risk Factor Surveillance System\n",
       "Class                                                   Obesity / Weight Status\n",
       "Topic                                                   Obesity / Weight Status\n",
       "Question                      Percent of adults aged 18 years and older who ...\n",
       "Data_Value_Unit                                                             NaN\n",
       "Data_Value_Type                                                           Value\n",
       "Data_Value                                                                 32.3\n",
       "Data_Value_Alt                                                             32.3\n",
       "Data_Value_Footnote_Symbol                                                  NaN\n",
       "Data_Value_Footnote                                                         NaN\n",
       "Low_Confidence_Limit                                                       29.9\n",
       "High_Confidence_Limit                                                      34.7\n",
       "Sample_Size                                                              2581.0\n",
       "Total                                                                       NaN\n",
       "Age(years)                                                                  NaN\n",
       "Education                                                                   NaN\n",
       "Gender                                                                     Male\n",
       "Income                                                                      NaN\n",
       "Race/Ethnicity                                                              NaN\n",
       "GeoLocation                             (32.84057112200048, -86.63186076199969)\n",
       "ClassID                                                                     OWS\n",
       "TopicID                                                                    OWS1\n",
       "QuestionID                                                                 Q036\n",
       "DataValueTypeID                                                           VALUE\n",
       "LocationID                                                                    1\n",
       "StratificationCategory1                                                  Gender\n",
       "Stratification1                                                            Male\n",
       "StratificationCategoryId1                                                   GEN\n",
       "StratificationID1                                                          MALE\n",
       "Name: 1, dtype: object"
      ]
     },
     "execution_count": 69,
     "metadata": {},
     "output_type": "execute_result"
    }
   ],
   "source": [
    "df.iloc[1]"
   ]
  },
  {
   "cell_type": "code",
   "execution_count": 70,
   "id": "d5365fe4",
   "metadata": {},
   "outputs": [
    {
     "name": "stdout",
     "output_type": "stream",
     "text": [
      "Sample_Size\n",
      "[ 7304.  2581.  4723. ... 11672.  2884.  4547.]\n",
      "\n",
      "\n",
      "YearStart\n",
      "[2011 2012 2014 2013 2015 2016]\n",
      "\n",
      "\n",
      "YearEnd\n",
      "[2011 2012 2014 2013 2015 2016]\n",
      "\n",
      "\n"
     ]
    }
   ],
   "source": [
    "for f in ['Sample_Size','YearStart','YearEnd']:\n",
    "    print(f)\n",
    "    print(df[f].unique())\n",
    "    print(\"\\n\")"
   ]
  },
  {
   "cell_type": "code",
   "execution_count": 76,
   "id": "5a7a9ee0",
   "metadata": {},
   "outputs": [
    {
     "ename": "KeyError",
     "evalue": "\"['Low_Confidence_Limit', 'High_Confidence_Limit ', 'YearEnd', 'Topic', 'Class', 'Datasource', 'Data_Value_Unit', 'QuestionID', 'TopicID', 'DataValueTypeID', 'Data_Value_Type', 'Data_Value_Footnote_Symbol', 'Data_Value_Footnote', 'StratificationCategoryId1', 'StratificationID1'] not found in axis\"",
     "output_type": "error",
     "traceback": [
      "\u001b[0;31m---------------------------------------------------------------------------\u001b[0m",
      "\u001b[0;31mKeyError\u001b[0m                                  Traceback (most recent call last)",
      "Input \u001b[0;32mIn [76]\u001b[0m, in \u001b[0;36m<cell line: 2>\u001b[0;34m()\u001b[0m\n\u001b[1;32m      1\u001b[0m \u001b[38;5;66;03m#removing unwanted and repeated columns\u001b[39;00m\n\u001b[0;32m----> 2\u001b[0m df\u001b[38;5;241m=\u001b[39m\u001b[43mdf\u001b[49m\u001b[38;5;241;43m.\u001b[39;49m\u001b[43mdrop\u001b[49m\u001b[43m(\u001b[49m\u001b[43m[\u001b[49m\u001b[38;5;124;43m'\u001b[39;49m\u001b[38;5;124;43mLow_Confidence_Limit\u001b[39;49m\u001b[38;5;124;43m'\u001b[39;49m\u001b[43m,\u001b[49m\u001b[38;5;124;43m'\u001b[39;49m\u001b[38;5;124;43mHigh_Confidence_Limit \u001b[39;49m\u001b[38;5;124;43m'\u001b[39;49m\u001b[43m,\u001b[49m\u001b[38;5;124;43m'\u001b[39;49m\u001b[38;5;124;43mYearEnd\u001b[39;49m\u001b[38;5;124;43m'\u001b[39;49m\u001b[43m,\u001b[49m\u001b[38;5;124;43m'\u001b[39;49m\u001b[38;5;124;43mTopic\u001b[39;49m\u001b[38;5;124;43m'\u001b[39;49m\u001b[43m,\u001b[49m\u001b[38;5;124;43m'\u001b[39;49m\u001b[38;5;124;43mClass\u001b[39;49m\u001b[38;5;124;43m'\u001b[39;49m\u001b[43m,\u001b[49m\u001b[38;5;124;43m'\u001b[39;49m\u001b[38;5;124;43mDatasource\u001b[39;49m\u001b[38;5;124;43m'\u001b[39;49m\u001b[43m,\u001b[49m\u001b[38;5;124;43m'\u001b[39;49m\u001b[38;5;124;43mData_Value_Unit\u001b[39;49m\u001b[38;5;124;43m'\u001b[39;49m\u001b[43m,\u001b[49m\u001b[38;5;124;43m'\u001b[39;49m\u001b[38;5;124;43mQuestionID\u001b[39;49m\u001b[38;5;124;43m'\u001b[39;49m\u001b[43m,\u001b[49m\u001b[38;5;124;43m'\u001b[39;49m\u001b[38;5;124;43mTopicID\u001b[39;49m\u001b[38;5;124;43m'\u001b[39;49m\u001b[43m,\u001b[49m\u001b[38;5;124;43m'\u001b[39;49m\u001b[38;5;124;43mDataValueTypeID\u001b[39;49m\u001b[38;5;124;43m'\u001b[39;49m\u001b[43m,\u001b[49m\u001b[38;5;124;43m'\u001b[39;49m\u001b[38;5;124;43mData_Value_Type\u001b[39;49m\u001b[38;5;124;43m'\u001b[39;49m\u001b[43m,\u001b[49m\u001b[38;5;124;43m'\u001b[39;49m\u001b[38;5;124;43mData_Value_Footnote_Symbol\u001b[39;49m\u001b[38;5;124;43m'\u001b[39;49m\u001b[43m,\u001b[49m\u001b[38;5;124;43m'\u001b[39;49m\u001b[38;5;124;43mData_Value_Footnote\u001b[39;49m\u001b[38;5;124;43m'\u001b[39;49m\u001b[43m,\u001b[49m\u001b[38;5;124;43m'\u001b[39;49m\u001b[38;5;124;43mStratificationCategoryId1\u001b[39;49m\u001b[38;5;124;43m'\u001b[39;49m\u001b[43m,\u001b[49m\u001b[38;5;124;43m'\u001b[39;49m\u001b[38;5;124;43mStratificationID1\u001b[39;49m\u001b[38;5;124;43m'\u001b[39;49m\u001b[43m]\u001b[49m\u001b[43m,\u001b[49m\u001b[43maxis\u001b[49m\u001b[38;5;241;43m=\u001b[39;49m\u001b[38;5;241;43m1\u001b[39;49m\u001b[43m)\u001b[49m\n",
      "File \u001b[0;32m~/opt/miniconda3/lib/python3.9/site-packages/pandas/util/_decorators.py:311\u001b[0m, in \u001b[0;36mdeprecate_nonkeyword_arguments.<locals>.decorate.<locals>.wrapper\u001b[0;34m(*args, **kwargs)\u001b[0m\n\u001b[1;32m    305\u001b[0m \u001b[38;5;28;01mif\u001b[39;00m \u001b[38;5;28mlen\u001b[39m(args) \u001b[38;5;241m>\u001b[39m num_allow_args:\n\u001b[1;32m    306\u001b[0m     warnings\u001b[38;5;241m.\u001b[39mwarn(\n\u001b[1;32m    307\u001b[0m         msg\u001b[38;5;241m.\u001b[39mformat(arguments\u001b[38;5;241m=\u001b[39marguments),\n\u001b[1;32m    308\u001b[0m         \u001b[38;5;167;01mFutureWarning\u001b[39;00m,\n\u001b[1;32m    309\u001b[0m         stacklevel\u001b[38;5;241m=\u001b[39mstacklevel,\n\u001b[1;32m    310\u001b[0m     )\n\u001b[0;32m--> 311\u001b[0m \u001b[38;5;28;01mreturn\u001b[39;00m \u001b[43mfunc\u001b[49m\u001b[43m(\u001b[49m\u001b[38;5;241;43m*\u001b[39;49m\u001b[43margs\u001b[49m\u001b[43m,\u001b[49m\u001b[43m \u001b[49m\u001b[38;5;241;43m*\u001b[39;49m\u001b[38;5;241;43m*\u001b[39;49m\u001b[43mkwargs\u001b[49m\u001b[43m)\u001b[49m\n",
      "File \u001b[0;32m~/opt/miniconda3/lib/python3.9/site-packages/pandas/core/frame.py:4954\u001b[0m, in \u001b[0;36mDataFrame.drop\u001b[0;34m(self, labels, axis, index, columns, level, inplace, errors)\u001b[0m\n\u001b[1;32m   4806\u001b[0m \u001b[38;5;129m@deprecate_nonkeyword_arguments\u001b[39m(version\u001b[38;5;241m=\u001b[39m\u001b[38;5;28;01mNone\u001b[39;00m, allowed_args\u001b[38;5;241m=\u001b[39m[\u001b[38;5;124m\"\u001b[39m\u001b[38;5;124mself\u001b[39m\u001b[38;5;124m\"\u001b[39m, \u001b[38;5;124m\"\u001b[39m\u001b[38;5;124mlabels\u001b[39m\u001b[38;5;124m\"\u001b[39m])\n\u001b[1;32m   4807\u001b[0m \u001b[38;5;28;01mdef\u001b[39;00m \u001b[38;5;21mdrop\u001b[39m(\n\u001b[1;32m   4808\u001b[0m     \u001b[38;5;28mself\u001b[39m,\n\u001b[0;32m   (...)\u001b[0m\n\u001b[1;32m   4815\u001b[0m     errors: \u001b[38;5;28mstr\u001b[39m \u001b[38;5;241m=\u001b[39m \u001b[38;5;124m\"\u001b[39m\u001b[38;5;124mraise\u001b[39m\u001b[38;5;124m\"\u001b[39m,\n\u001b[1;32m   4816\u001b[0m ):\n\u001b[1;32m   4817\u001b[0m     \u001b[38;5;124;03m\"\"\"\u001b[39;00m\n\u001b[1;32m   4818\u001b[0m \u001b[38;5;124;03m    Drop specified labels from rows or columns.\u001b[39;00m\n\u001b[1;32m   4819\u001b[0m \n\u001b[0;32m   (...)\u001b[0m\n\u001b[1;32m   4952\u001b[0m \u001b[38;5;124;03m            weight  1.0     0.8\u001b[39;00m\n\u001b[1;32m   4953\u001b[0m \u001b[38;5;124;03m    \"\"\"\u001b[39;00m\n\u001b[0;32m-> 4954\u001b[0m     \u001b[38;5;28;01mreturn\u001b[39;00m \u001b[38;5;28;43msuper\u001b[39;49m\u001b[43m(\u001b[49m\u001b[43m)\u001b[49m\u001b[38;5;241;43m.\u001b[39;49m\u001b[43mdrop\u001b[49m\u001b[43m(\u001b[49m\n\u001b[1;32m   4955\u001b[0m \u001b[43m        \u001b[49m\u001b[43mlabels\u001b[49m\u001b[38;5;241;43m=\u001b[39;49m\u001b[43mlabels\u001b[49m\u001b[43m,\u001b[49m\n\u001b[1;32m   4956\u001b[0m \u001b[43m        \u001b[49m\u001b[43maxis\u001b[49m\u001b[38;5;241;43m=\u001b[39;49m\u001b[43maxis\u001b[49m\u001b[43m,\u001b[49m\n\u001b[1;32m   4957\u001b[0m \u001b[43m        \u001b[49m\u001b[43mindex\u001b[49m\u001b[38;5;241;43m=\u001b[39;49m\u001b[43mindex\u001b[49m\u001b[43m,\u001b[49m\n\u001b[1;32m   4958\u001b[0m \u001b[43m        \u001b[49m\u001b[43mcolumns\u001b[49m\u001b[38;5;241;43m=\u001b[39;49m\u001b[43mcolumns\u001b[49m\u001b[43m,\u001b[49m\n\u001b[1;32m   4959\u001b[0m \u001b[43m        \u001b[49m\u001b[43mlevel\u001b[49m\u001b[38;5;241;43m=\u001b[39;49m\u001b[43mlevel\u001b[49m\u001b[43m,\u001b[49m\n\u001b[1;32m   4960\u001b[0m \u001b[43m        \u001b[49m\u001b[43minplace\u001b[49m\u001b[38;5;241;43m=\u001b[39;49m\u001b[43minplace\u001b[49m\u001b[43m,\u001b[49m\n\u001b[1;32m   4961\u001b[0m \u001b[43m        \u001b[49m\u001b[43merrors\u001b[49m\u001b[38;5;241;43m=\u001b[39;49m\u001b[43merrors\u001b[49m\u001b[43m,\u001b[49m\n\u001b[1;32m   4962\u001b[0m \u001b[43m    \u001b[49m\u001b[43m)\u001b[49m\n",
      "File \u001b[0;32m~/opt/miniconda3/lib/python3.9/site-packages/pandas/core/generic.py:4267\u001b[0m, in \u001b[0;36mNDFrame.drop\u001b[0;34m(self, labels, axis, index, columns, level, inplace, errors)\u001b[0m\n\u001b[1;32m   4265\u001b[0m \u001b[38;5;28;01mfor\u001b[39;00m axis, labels \u001b[38;5;129;01min\u001b[39;00m axes\u001b[38;5;241m.\u001b[39mitems():\n\u001b[1;32m   4266\u001b[0m     \u001b[38;5;28;01mif\u001b[39;00m labels \u001b[38;5;129;01mis\u001b[39;00m \u001b[38;5;129;01mnot\u001b[39;00m \u001b[38;5;28;01mNone\u001b[39;00m:\n\u001b[0;32m-> 4267\u001b[0m         obj \u001b[38;5;241m=\u001b[39m \u001b[43mobj\u001b[49m\u001b[38;5;241;43m.\u001b[39;49m\u001b[43m_drop_axis\u001b[49m\u001b[43m(\u001b[49m\u001b[43mlabels\u001b[49m\u001b[43m,\u001b[49m\u001b[43m \u001b[49m\u001b[43maxis\u001b[49m\u001b[43m,\u001b[49m\u001b[43m \u001b[49m\u001b[43mlevel\u001b[49m\u001b[38;5;241;43m=\u001b[39;49m\u001b[43mlevel\u001b[49m\u001b[43m,\u001b[49m\u001b[43m \u001b[49m\u001b[43merrors\u001b[49m\u001b[38;5;241;43m=\u001b[39;49m\u001b[43merrors\u001b[49m\u001b[43m)\u001b[49m\n\u001b[1;32m   4269\u001b[0m \u001b[38;5;28;01mif\u001b[39;00m inplace:\n\u001b[1;32m   4270\u001b[0m     \u001b[38;5;28mself\u001b[39m\u001b[38;5;241m.\u001b[39m_update_inplace(obj)\n",
      "File \u001b[0;32m~/opt/miniconda3/lib/python3.9/site-packages/pandas/core/generic.py:4311\u001b[0m, in \u001b[0;36mNDFrame._drop_axis\u001b[0;34m(self, labels, axis, level, errors, consolidate, only_slice)\u001b[0m\n\u001b[1;32m   4309\u001b[0m         new_axis \u001b[38;5;241m=\u001b[39m axis\u001b[38;5;241m.\u001b[39mdrop(labels, level\u001b[38;5;241m=\u001b[39mlevel, errors\u001b[38;5;241m=\u001b[39merrors)\n\u001b[1;32m   4310\u001b[0m     \u001b[38;5;28;01melse\u001b[39;00m:\n\u001b[0;32m-> 4311\u001b[0m         new_axis \u001b[38;5;241m=\u001b[39m \u001b[43maxis\u001b[49m\u001b[38;5;241;43m.\u001b[39;49m\u001b[43mdrop\u001b[49m\u001b[43m(\u001b[49m\u001b[43mlabels\u001b[49m\u001b[43m,\u001b[49m\u001b[43m \u001b[49m\u001b[43merrors\u001b[49m\u001b[38;5;241;43m=\u001b[39;49m\u001b[43merrors\u001b[49m\u001b[43m)\u001b[49m\n\u001b[1;32m   4312\u001b[0m     indexer \u001b[38;5;241m=\u001b[39m axis\u001b[38;5;241m.\u001b[39mget_indexer(new_axis)\n\u001b[1;32m   4314\u001b[0m \u001b[38;5;66;03m# Case for non-unique axis\u001b[39;00m\n\u001b[1;32m   4315\u001b[0m \u001b[38;5;28;01melse\u001b[39;00m:\n",
      "File \u001b[0;32m~/opt/miniconda3/lib/python3.9/site-packages/pandas/core/indexes/base.py:6644\u001b[0m, in \u001b[0;36mIndex.drop\u001b[0;34m(self, labels, errors)\u001b[0m\n\u001b[1;32m   6642\u001b[0m \u001b[38;5;28;01mif\u001b[39;00m mask\u001b[38;5;241m.\u001b[39many():\n\u001b[1;32m   6643\u001b[0m     \u001b[38;5;28;01mif\u001b[39;00m errors \u001b[38;5;241m!=\u001b[39m \u001b[38;5;124m\"\u001b[39m\u001b[38;5;124mignore\u001b[39m\u001b[38;5;124m\"\u001b[39m:\n\u001b[0;32m-> 6644\u001b[0m         \u001b[38;5;28;01mraise\u001b[39;00m \u001b[38;5;167;01mKeyError\u001b[39;00m(\u001b[38;5;124mf\u001b[39m\u001b[38;5;124m\"\u001b[39m\u001b[38;5;132;01m{\u001b[39;00m\u001b[38;5;28mlist\u001b[39m(labels[mask])\u001b[38;5;132;01m}\u001b[39;00m\u001b[38;5;124m not found in axis\u001b[39m\u001b[38;5;124m\"\u001b[39m)\n\u001b[1;32m   6645\u001b[0m     indexer \u001b[38;5;241m=\u001b[39m indexer[\u001b[38;5;241m~\u001b[39mmask]\n\u001b[1;32m   6646\u001b[0m \u001b[38;5;28;01mreturn\u001b[39;00m \u001b[38;5;28mself\u001b[39m\u001b[38;5;241m.\u001b[39mdelete(indexer)\n",
      "\u001b[0;31mKeyError\u001b[0m: \"['Low_Confidence_Limit', 'High_Confidence_Limit ', 'YearEnd', 'Topic', 'Class', 'Datasource', 'Data_Value_Unit', 'QuestionID', 'TopicID', 'DataValueTypeID', 'Data_Value_Type', 'Data_Value_Footnote_Symbol', 'Data_Value_Footnote', 'StratificationCategoryId1', 'StratificationID1'] not found in axis\""
     ]
    }
   ],
   "source": [
    "#removing unwanted and repeated columns\n",
    "df=df.drop(['Low_Confidence_Limit','High_Confidence_Limit ','YearEnd','Topic','Class','Datasource','Data_Value_Unit','QuestionID','TopicID','DataValueTypeID','Data_Value_Type','Data_Value_Footnote_Symbol','Data_Value_Footnote','StratificationCategoryId1','StratificationID1'],axis=1);"
   ]
  },
  {
   "cell_type": "code",
   "execution_count": 72,
   "id": "74fba76b",
   "metadata": {},
   "outputs": [],
   "source": [
    "# Narrowing down to Obesity WRT Income"
   ]
  },
  {
   "cell_type": "code",
   "execution_count": 73,
   "id": "6332eb08",
   "metadata": {},
   "outputs": [
    {
     "name": "stdout",
     "output_type": "stream",
     "text": [
      "StratificationCategory1\n",
      "['Total' 'Gender' 'Education' 'Age (years)' 'Income' 'Race/Ethnicity']\n",
      "\n",
      "\n",
      "Stratification1\n",
      "['Total' 'Male' 'Female' 'Less than high school' 'High school graduate'\n",
      " 'Some college or technical school' 'College graduate' '18 - 24' '25 - 34'\n",
      " '35 - 44' '45 - 54' '55 - 64' '65 or older' 'Less than $15,000'\n",
      " '$15,000 - $24,999' '$25,000 - $34,999' '$35,000 - $49,999'\n",
      " '$50,000 - $74,999' '$75,000 or greater' 'Data not reported'\n",
      " 'Non-Hispanic White' 'Non-Hispanic Black' 'Hispanic' 'Asian'\n",
      " 'Hawaiian/Pacific Islander' 'American Indian/Alaska Native'\n",
      " '2 or more races' 'Other']\n",
      "\n",
      "\n"
     ]
    }
   ],
   "source": [
    "for f in ['StratificationCategory1','Stratification1']:\n",
    "    print(f)\n",
    "    print(df[f].unique())\n",
    "    print(\"\\n\")"
   ]
  },
  {
   "cell_type": "code",
   "execution_count": 74,
   "id": "6359f786",
   "metadata": {},
   "outputs": [],
   "source": [
    "df=df[df['ClassID']=='OWS']"
   ]
  },
  {
   "cell_type": "code",
   "execution_count": 75,
   "id": "e28462dc",
   "metadata": {},
   "outputs": [],
   "source": [
    "df=df[df['StratificationCategory1']=='Income']"
   ]
  },
  {
   "cell_type": "code",
   "execution_count": 78,
   "id": "16019532",
   "metadata": {},
   "outputs": [
    {
     "name": "stdout",
     "output_type": "stream",
     "text": [
      "<class 'pandas.core.frame.DataFrame'>\n",
      "Int64Index: 4480 entries, 13 to 51843\n",
      "Data columns (total 18 columns):\n",
      " #   Column                   Non-Null Count  Dtype  \n",
      "---  ------                   --------------  -----  \n",
      " 0   YearStart                4480 non-null   int64  \n",
      " 1   LocationAbbr             4480 non-null   object \n",
      " 2   LocationDesc             4480 non-null   object \n",
      " 3   Question                 4480 non-null   object \n",
      " 4   Data_Value               4480 non-null   float64\n",
      " 5   Data_Value_Alt           4480 non-null   float64\n",
      " 6   Sample_Size              4480 non-null   float64\n",
      " 7   Total                    0 non-null      object \n",
      " 8   Age(years)               0 non-null      object \n",
      " 9   Education                0 non-null      object \n",
      " 10  Gender                   0 non-null      object \n",
      " 11  Income                   4480 non-null   object \n",
      " 12  Race/Ethnicity           0 non-null      object \n",
      " 13  GeoLocation              4396 non-null   object \n",
      " 14  ClassID                  4480 non-null   object \n",
      " 15  LocationID               4480 non-null   int64  \n",
      " 16  StratificationCategory1  4480 non-null   object \n",
      " 17  Stratification1          4480 non-null   object \n",
      "dtypes: float64(3), int64(2), object(13)\n",
      "memory usage: 665.0+ KB\n"
     ]
    }
   ],
   "source": [
    "df.info()"
   ]
  },
  {
   "cell_type": "code",
   "execution_count": 80,
   "id": "c65d289a",
   "metadata": {},
   "outputs": [],
   "source": [
    "df=df.drop(['StratificationCategory1','Stratification1','ClassID','LocationDesc','Data_Value_Alt','Age(years)','Education','Gender','Race/Ethnicity','LocationID','StratificationCategory1','Stratification1'],axis=1)"
   ]
  },
  {
   "cell_type": "code",
   "execution_count": 81,
   "id": "39126117",
   "metadata": {},
   "outputs": [
    {
     "data": {
      "text/plain": [
       "4480"
      ]
     },
     "execution_count": 81,
     "metadata": {},
     "output_type": "execute_result"
    }
   ],
   "source": [
    "len(df)"
   ]
  },
  {
   "cell_type": "code",
   "execution_count": 82,
   "id": "7277d9ac",
   "metadata": {},
   "outputs": [
    {
     "name": "stdout",
     "output_type": "stream",
     "text": [
      "<class 'pandas.core.frame.DataFrame'>\n",
      "Int64Index: 4480 entries, 13 to 51843\n",
      "Data columns (total 8 columns):\n",
      " #   Column        Non-Null Count  Dtype  \n",
      "---  ------        --------------  -----  \n",
      " 0   YearStart     4480 non-null   int64  \n",
      " 1   LocationAbbr  4480 non-null   object \n",
      " 2   Question      4480 non-null   object \n",
      " 3   Data_Value    4480 non-null   float64\n",
      " 4   Sample_Size   4480 non-null   float64\n",
      " 5   Total         0 non-null      object \n",
      " 6   Income        4480 non-null   object \n",
      " 7   GeoLocation   4396 non-null   object \n",
      "dtypes: float64(2), int64(1), object(5)\n",
      "memory usage: 315.0+ KB\n"
     ]
    }
   ],
   "source": [
    "df.info()"
   ]
  },
  {
   "cell_type": "code",
   "execution_count": 83,
   "id": "215ce549",
   "metadata": {},
   "outputs": [],
   "source": [
    "df=df.drop(['GeoLocation'],axis=1)"
   ]
  },
  {
   "cell_type": "code",
   "execution_count": 84,
   "id": "46cd7f3b",
   "metadata": {},
   "outputs": [
    {
     "name": "stdout",
     "output_type": "stream",
     "text": [
      "<class 'pandas.core.frame.DataFrame'>\n",
      "Int64Index: 4480 entries, 13 to 51843\n",
      "Data columns (total 7 columns):\n",
      " #   Column        Non-Null Count  Dtype  \n",
      "---  ------        --------------  -----  \n",
      " 0   YearStart     4480 non-null   int64  \n",
      " 1   LocationAbbr  4480 non-null   object \n",
      " 2   Question      4480 non-null   object \n",
      " 3   Data_Value    4480 non-null   float64\n",
      " 4   Sample_Size   4480 non-null   float64\n",
      " 5   Total         0 non-null      object \n",
      " 6   Income        4480 non-null   object \n",
      "dtypes: float64(2), int64(1), object(4)\n",
      "memory usage: 280.0+ KB\n"
     ]
    }
   ],
   "source": [
    "df.info()"
   ]
  },
  {
   "cell_type": "code",
   "execution_count": 86,
   "id": "d152a978",
   "metadata": {},
   "outputs": [
    {
     "data": {
      "text/html": [
       "<div>\n",
       "<style scoped>\n",
       "    .dataframe tbody tr th:only-of-type {\n",
       "        vertical-align: middle;\n",
       "    }\n",
       "\n",
       "    .dataframe tbody tr th {\n",
       "        vertical-align: top;\n",
       "    }\n",
       "\n",
       "    .dataframe thead th {\n",
       "        text-align: right;\n",
       "    }\n",
       "</style>\n",
       "<table border=\"1\" class=\"dataframe\">\n",
       "  <thead>\n",
       "    <tr style=\"text-align: right;\">\n",
       "      <th></th>\n",
       "      <th>YearStart</th>\n",
       "      <th>Data_Value</th>\n",
       "      <th>Sample_Size</th>\n",
       "    </tr>\n",
       "  </thead>\n",
       "  <tbody>\n",
       "    <tr>\n",
       "      <th>YearStart</th>\n",
       "      <td>1.000000</td>\n",
       "      <td>0.070193</td>\n",
       "      <td>-0.013898</td>\n",
       "    </tr>\n",
       "    <tr>\n",
       "      <th>Data_Value</th>\n",
       "      <td>0.070193</td>\n",
       "      <td>1.000000</td>\n",
       "      <td>-0.009592</td>\n",
       "    </tr>\n",
       "    <tr>\n",
       "      <th>Sample_Size</th>\n",
       "      <td>-0.013898</td>\n",
       "      <td>-0.009592</td>\n",
       "      <td>1.000000</td>\n",
       "    </tr>\n",
       "  </tbody>\n",
       "</table>\n",
       "</div>"
      ],
      "text/plain": [
       "             YearStart  Data_Value  Sample_Size\n",
       "YearStart     1.000000    0.070193    -0.013898\n",
       "Data_Value    0.070193    1.000000    -0.009592\n",
       "Sample_Size  -0.013898   -0.009592     1.000000"
      ]
     },
     "execution_count": 86,
     "metadata": {},
     "output_type": "execute_result"
    }
   ],
   "source": [
    "df.corr()"
   ]
  },
  {
   "cell_type": "code",
   "execution_count": 88,
   "id": "00903ddf",
   "metadata": {},
   "outputs": [
    {
     "data": {
      "image/png": "[encoded data removed]",
      "text/plain": [
       "<Figure size 432x288 with 2 Axes>"
      ]
     },
     "metadata": {
      "needs_background": "light"
     },
     "output_type": "display_data"
    }
   ],
   "source": [
    "data = df\n",
    "\n",
    "corr = data.corr()\n",
    "ax = sns.heatmap(\n",
    "    corr, \n",
    "    vmin=-1, vmax=1, center=0,\n",
    "    cmap=sns.diverging_palette(20, 220, n=200),\n",
    "    square=True\n",
    ")\n",
    "ax.set_xticklabels(\n",
    "    ax.get_xticklabels(),\n",
    "    rotation=45,\n",
    "    horizontalalignment='right'\n",
    ");"
   ]
  },
  {
   "cell_type": "code",
   "execution_count": 91,
   "id": "94be8921",
   "metadata": {},
   "outputs": [],
   "source": [
    "df = pd.get_dummies(data=df, drop_first=True)"
   ]
  },
  {
   "cell_type": "code",
   "execution_count": 92,
   "id": "7c09665e",
   "metadata": {},
   "outputs": [
    {
     "name": "stdout",
     "output_type": "stream",
     "text": [
      "<class 'pandas.core.frame.DataFrame'>\n",
      "Int64Index: 4480 entries, 13 to 51843\n",
      "Data columns (total 64 columns):\n",
      " #   Column                                                               Non-Null Count  Dtype  \n",
      "---  ------                                                               --------------  -----  \n",
      " 0   YearStart                                                            4480 non-null   int64  \n",
      " 1   Data_Value                                                           4480 non-null   float64\n",
      " 2   Sample_Size                                                          4480 non-null   float64\n",
      " 3   LocationAbbr_AL                                                      4480 non-null   uint8  \n",
      " 4   LocationAbbr_AR                                                      4480 non-null   uint8  \n",
      " 5   LocationAbbr_AZ                                                      4480 non-null   uint8  \n",
      " 6   LocationAbbr_CA                                                      4480 non-null   uint8  \n",
      " 7   LocationAbbr_CO                                                      4480 non-null   uint8  \n",
      " 8   LocationAbbr_CT                                                      4480 non-null   uint8  \n",
      " 9   LocationAbbr_DC                                                      4480 non-null   uint8  \n",
      " 10  LocationAbbr_DE                                                      4480 non-null   uint8  \n",
      " 11  LocationAbbr_FL                                                      4480 non-null   uint8  \n",
      " 12  LocationAbbr_GA                                                      4480 non-null   uint8  \n",
      " 13  LocationAbbr_GU                                                      4480 non-null   uint8  \n",
      " 14  LocationAbbr_HI                                                      4480 non-null   uint8  \n",
      " 15  LocationAbbr_IA                                                      4480 non-null   uint8  \n",
      " 16  LocationAbbr_ID                                                      4480 non-null   uint8  \n",
      " 17  LocationAbbr_IL                                                      4480 non-null   uint8  \n",
      " 18  LocationAbbr_IN                                                      4480 non-null   uint8  \n",
      " 19  LocationAbbr_KS                                                      4480 non-null   uint8  \n",
      " 20  LocationAbbr_KY                                                      4480 non-null   uint8  \n",
      " 21  LocationAbbr_LA                                                      4480 non-null   uint8  \n",
      " 22  LocationAbbr_MA                                                      4480 non-null   uint8  \n",
      " 23  LocationAbbr_MD                                                      4480 non-null   uint8  \n",
      " 24  LocationAbbr_ME                                                      4480 non-null   uint8  \n",
      " 25  LocationAbbr_MI                                                      4480 non-null   uint8  \n",
      " 26  LocationAbbr_MN                                                      4480 non-null   uint8  \n",
      " 27  LocationAbbr_MO                                                      4480 non-null   uint8  \n",
      " 28  LocationAbbr_MS                                                      4480 non-null   uint8  \n",
      " 29  LocationAbbr_MT                                                      4480 non-null   uint8  \n",
      " 30  LocationAbbr_NC                                                      4480 non-null   uint8  \n",
      " 31  LocationAbbr_ND                                                      4480 non-null   uint8  \n",
      " 32  LocationAbbr_NE                                                      4480 non-null   uint8  \n",
      " 33  LocationAbbr_NH                                                      4480 non-null   uint8  \n",
      " 34  LocationAbbr_NJ                                                      4480 non-null   uint8  \n",
      " 35  LocationAbbr_NM                                                      4480 non-null   uint8  \n",
      " 36  LocationAbbr_NV                                                      4480 non-null   uint8  \n",
      " 37  LocationAbbr_NY                                                      4480 non-null   uint8  \n",
      " 38  LocationAbbr_OH                                                      4480 non-null   uint8  \n",
      " 39  LocationAbbr_OK                                                      4480 non-null   uint8  \n",
      " 40  LocationAbbr_OR                                                      4480 non-null   uint8  \n",
      " 41  LocationAbbr_PA                                                      4480 non-null   uint8  \n",
      " 42  LocationAbbr_PR                                                      4480 non-null   uint8  \n",
      " 43  LocationAbbr_RI                                                      4480 non-null   uint8  \n",
      " 44  LocationAbbr_SC                                                      4480 non-null   uint8  \n",
      " 45  LocationAbbr_SD                                                      4480 non-null   uint8  \n",
      " 46  LocationAbbr_TN                                                      4480 non-null   uint8  \n",
      " 47  LocationAbbr_TX                                                      4480 non-null   uint8  \n",
      " 48  LocationAbbr_US                                                      4480 non-null   uint8  \n",
      " 49  LocationAbbr_UT                                                      4480 non-null   uint8  \n",
      " 50  LocationAbbr_VA                                                      4480 non-null   uint8  \n",
      " 51  LocationAbbr_VI                                                      4480 non-null   uint8  \n",
      " 52  LocationAbbr_VT                                                      4480 non-null   uint8  \n",
      " 53  LocationAbbr_WA                                                      4480 non-null   uint8  \n",
      " 54  LocationAbbr_WI                                                      4480 non-null   uint8  \n",
      " 55  LocationAbbr_WV                                                      4480 non-null   uint8  \n",
      " 56  LocationAbbr_WY                                                      4480 non-null   uint8  \n",
      " 57  Question_Percent of adults aged 18 years and older who have obesity  4480 non-null   uint8  \n",
      " 58  Income_$25,000 - $34,999                                             4480 non-null   uint8  \n",
      " 59  Income_$35,000 - $49,999                                             4480 non-null   uint8  \n",
      " 60  Income_$50,000 - $74,999                                             4480 non-null   uint8  \n",
      " 61  Income_$75,000 or greater                                            4480 non-null   uint8  \n",
      " 62  Income_Data not reported                                             4480 non-null   uint8  \n",
      " 63  Income_Less than $15,000                                             4480 non-null   uint8  \n",
      "dtypes: float64(2), int64(1), uint8(61)\n",
      "memory usage: 406.9 KB\n"
     ]
    }
   ],
   "source": [
    "df.info()"
   ]
  },
  {
   "cell_type": "code",
   "execution_count": 93,
   "id": "1f2e2d82",
   "metadata": {},
   "outputs": [
    {
     "name": "stdout",
     "output_type": "stream",
     "text": [
      "Question\n"
     ]
    },
    {
     "ename": "KeyError",
     "evalue": "'Question'",
     "output_type": "error",
     "traceback": [
      "\u001b[0;31m---------------------------------------------------------------------------\u001b[0m",
      "\u001b[0;31mKeyError\u001b[0m                                  Traceback (most recent call last)",
      "File \u001b[0;32m~/opt/miniconda3/lib/python3.9/site-packages/pandas/core/indexes/base.py:3621\u001b[0m, in \u001b[0;36mIndex.get_loc\u001b[0;34m(self, key, method, tolerance)\u001b[0m\n\u001b[1;32m   3620\u001b[0m \u001b[38;5;28;01mtry\u001b[39;00m:\n\u001b[0;32m-> 3621\u001b[0m     \u001b[38;5;28;01mreturn\u001b[39;00m \u001b[38;5;28;43mself\u001b[39;49m\u001b[38;5;241;43m.\u001b[39;49m\u001b[43m_engine\u001b[49m\u001b[38;5;241;43m.\u001b[39;49m\u001b[43mget_loc\u001b[49m\u001b[43m(\u001b[49m\u001b[43mcasted_key\u001b[49m\u001b[43m)\u001b[49m\n\u001b[1;32m   3622\u001b[0m \u001b[38;5;28;01mexcept\u001b[39;00m \u001b[38;5;167;01mKeyError\u001b[39;00m \u001b[38;5;28;01mas\u001b[39;00m err:\n",
      "File \u001b[0;32m~/opt/miniconda3/lib/python3.9/site-packages/pandas/_libs/index.pyx:136\u001b[0m, in \u001b[0;36mpandas._libs.index.IndexEngine.get_loc\u001b[0;34m()\u001b[0m\n",
      "File \u001b[0;32m~/opt/miniconda3/lib/python3.9/site-packages/pandas/_libs/index.pyx:163\u001b[0m, in \u001b[0;36mpandas._libs.index.IndexEngine.get_loc\u001b[0;34m()\u001b[0m\n",
      "File \u001b[0;32mpandas/_libs/hashtable_class_helper.pxi:5198\u001b[0m, in \u001b[0;36mpandas._libs.hashtable.PyObjectHashTable.get_item\u001b[0;34m()\u001b[0m\n",
      "File \u001b[0;32mpandas/_libs/hashtable_class_helper.pxi:5206\u001b[0m, in \u001b[0;36mpandas._libs.hashtable.PyObjectHashTable.get_item\u001b[0;34m()\u001b[0m\n",
      "\u001b[0;31mKeyError\u001b[0m: 'Question'",
      "\nThe above exception was the direct cause of the following exception:\n",
      "\u001b[0;31mKeyError\u001b[0m                                  Traceback (most recent call last)",
      "Input \u001b[0;32mIn [93]\u001b[0m, in \u001b[0;36m<cell line: 1>\u001b[0;34m()\u001b[0m\n\u001b[1;32m      1\u001b[0m \u001b[38;5;28;01mfor\u001b[39;00m f \u001b[38;5;129;01min\u001b[39;00m [\u001b[38;5;124m'\u001b[39m\u001b[38;5;124mQuestion\u001b[39m\u001b[38;5;124m'\u001b[39m]:\n\u001b[1;32m      2\u001b[0m     \u001b[38;5;28mprint\u001b[39m(f)\n\u001b[0;32m----> 3\u001b[0m     \u001b[38;5;28mprint\u001b[39m(\u001b[43mdf\u001b[49m\u001b[43m[\u001b[49m\u001b[43mf\u001b[49m\u001b[43m]\u001b[49m\u001b[38;5;241m.\u001b[39munique())\n\u001b[1;32m      4\u001b[0m     \u001b[38;5;28mprint\u001b[39m(\u001b[38;5;124m\"\u001b[39m\u001b[38;5;130;01m\\n\u001b[39;00m\u001b[38;5;124m\"\u001b[39m)\n",
      "File \u001b[0;32m~/opt/miniconda3/lib/python3.9/site-packages/pandas/core/frame.py:3505\u001b[0m, in \u001b[0;36mDataFrame.__getitem__\u001b[0;34m(self, key)\u001b[0m\n\u001b[1;32m   3503\u001b[0m \u001b[38;5;28;01mif\u001b[39;00m \u001b[38;5;28mself\u001b[39m\u001b[38;5;241m.\u001b[39mcolumns\u001b[38;5;241m.\u001b[39mnlevels \u001b[38;5;241m>\u001b[39m \u001b[38;5;241m1\u001b[39m:\n\u001b[1;32m   3504\u001b[0m     \u001b[38;5;28;01mreturn\u001b[39;00m \u001b[38;5;28mself\u001b[39m\u001b[38;5;241m.\u001b[39m_getitem_multilevel(key)\n\u001b[0;32m-> 3505\u001b[0m indexer \u001b[38;5;241m=\u001b[39m \u001b[38;5;28;43mself\u001b[39;49m\u001b[38;5;241;43m.\u001b[39;49m\u001b[43mcolumns\u001b[49m\u001b[38;5;241;43m.\u001b[39;49m\u001b[43mget_loc\u001b[49m\u001b[43m(\u001b[49m\u001b[43mkey\u001b[49m\u001b[43m)\u001b[49m\n\u001b[1;32m   3506\u001b[0m \u001b[38;5;28;01mif\u001b[39;00m is_integer(indexer):\n\u001b[1;32m   3507\u001b[0m     indexer \u001b[38;5;241m=\u001b[39m [indexer]\n",
      "File \u001b[0;32m~/opt/miniconda3/lib/python3.9/site-packages/pandas/core/indexes/base.py:3623\u001b[0m, in \u001b[0;36mIndex.get_loc\u001b[0;34m(self, key, method, tolerance)\u001b[0m\n\u001b[1;32m   3621\u001b[0m     \u001b[38;5;28;01mreturn\u001b[39;00m \u001b[38;5;28mself\u001b[39m\u001b[38;5;241m.\u001b[39m_engine\u001b[38;5;241m.\u001b[39mget_loc(casted_key)\n\u001b[1;32m   3622\u001b[0m \u001b[38;5;28;01mexcept\u001b[39;00m \u001b[38;5;167;01mKeyError\u001b[39;00m \u001b[38;5;28;01mas\u001b[39;00m err:\n\u001b[0;32m-> 3623\u001b[0m     \u001b[38;5;28;01mraise\u001b[39;00m \u001b[38;5;167;01mKeyError\u001b[39;00m(key) \u001b[38;5;28;01mfrom\u001b[39;00m \u001b[38;5;21;01merr\u001b[39;00m\n\u001b[1;32m   3624\u001b[0m \u001b[38;5;28;01mexcept\u001b[39;00m \u001b[38;5;167;01mTypeError\u001b[39;00m:\n\u001b[1;32m   3625\u001b[0m     \u001b[38;5;66;03m# If we have a listlike key, _check_indexing_error will raise\u001b[39;00m\n\u001b[1;32m   3626\u001b[0m     \u001b[38;5;66;03m#  InvalidIndexError. Otherwise we fall through and re-raise\u001b[39;00m\n\u001b[1;32m   3627\u001b[0m     \u001b[38;5;66;03m#  the TypeError.\u001b[39;00m\n\u001b[1;32m   3628\u001b[0m     \u001b[38;5;28mself\u001b[39m\u001b[38;5;241m.\u001b[39m_check_indexing_error(key)\n",
      "\u001b[0;31mKeyError\u001b[0m: 'Question'"
     ]
    }
   ],
   "source": []
  },
  {
   "cell_type": "code",
   "execution_count": 94,
   "id": "794e92eb",
   "metadata": {},
   "outputs": [],
   "source": [
    "def OSR2(model, df_train, df_test, dependent_var):   \n",
    "    y_test = df_test[dependent_var]\n",
    "    y_pred = model.predict(df_test.loc[:, df_test.columns != dependent_var])\n",
    "    RSS = np.sum((y_test - y_pred)**2)\n",
    "    TSS = np.sum((y_test - np.mean(df_test[dependent_var]))**2)    \n",
    "\n",
    "    return 1 - RSS/TSS\n",
    "\n",
    "## Compute Out-of-sample adjusted R-squared using the test set\n",
    "\n",
    "def adjOSR2(model, df_train, df_test, dependent_var): \n",
    "    n = df_train.shape[0]\n",
    "    k = len(df_test.columns) -1\n",
    "    y_test = df_test[dependent_var]\n",
    "    y_pred = model.predict(df_test.loc[:, df_test.columns != dependent_var])\n",
    "    RSS = np.sum((y_test - y_pred)**2)\n",
    "    TSS = np.sum((y_test - np.mean(df_test[dependent_var]))**2)    \n",
    "\n",
    "    return 1 - (RSS/TSS)*(n-1)/(n-k-1)\n"
   ]
  },
  {
   "cell_type": "code",
   "execution_count": 95,
   "id": "aa3faa31",
   "metadata": {},
   "outputs": [],
   "source": [
    "from sklearn.model_selection import train_test_split"
   ]
  },
  {
   "cell_type": "code",
   "execution_count": 96,
   "id": "aaa3fc67",
   "metadata": {},
   "outputs": [],
   "source": [
    "df_train, df_test = train_test_split(df, train_size=0.8, random_state=25)"
   ]
  },
  {
   "cell_type": "code",
   "execution_count": 97,
   "id": "f1b20260",
   "metadata": {},
   "outputs": [
    {
     "name": "stdout",
     "output_type": "stream",
     "text": [
      "No. of training examples: 3584\n",
      "No. of testing examples: 896\n"
     ]
    }
   ],
   "source": [
    "print(f\"No. of training examples: {df_train.shape[0]}\")\n",
    "print(f\"No. of testing examples: {df_test.shape[0]}\")"
   ]
  },
  {
   "cell_type": "code",
   "execution_count": 102,
   "id": "7f3b0212",
   "metadata": {},
   "outputs": [],
   "source": [
    "from sklearn.linear_model import LinearRegression\n"
   ]
  },
  {
   "cell_type": "code",
   "execution_count": 103,
   "id": "e6208efa",
   "metadata": {},
   "outputs": [],
   "source": [
    "X_train = df_train.drop(['Data_Value'],axis=1)\n",
    "y_train = df_train['Data_Value']\n",
    "\n",
    "model1 = LinearRegression().fit(X_train, y_train)"
   ]
  },
  {
   "cell_type": "code",
   "execution_count": 104,
   "id": "a4d3efda",
   "metadata": {},
   "outputs": [
    {
     "name": "stdout",
     "output_type": "stream",
     "text": [
      "R_squared: 0.45181817773607\n",
      "Intercept: -388.85603721538035\n",
      "Coefficients: [ 2.10608997e-01 -2.27787378e-05  2.13371632e+00  2.46533126e+00\n",
      " -1.57335091e-01 -1.27796297e+00 -3.12384423e+00 -5.84373019e-01\n",
      " -4.04679451e+00  1.31793673e+00 -3.81062026e-01  9.10062022e-01\n",
      "  2.82062934e-02 -4.46712668e+00  1.17571936e+00  8.28959181e-02\n",
      " -1.24505826e-01  1.35615590e+00  1.04402785e+00  1.78203274e+00\n",
      "  2.78832878e+00 -1.48085665e+00  8.04982430e-01  4.69033773e-01\n",
      "  1.04973286e+00 -3.17822222e-01  1.01241187e+00  3.63579861e+00\n",
      " -1.26108838e+00  1.17533804e+00  1.12148700e+00  1.10054769e+00\n",
      " -3.31118674e-01 -9.40742445e-02 -1.59031280e-01 -4.91740166e-01\n",
      " -1.61629185e+00  1.11686215e+00  2.33794239e+00 -9.03250310e-01\n",
      "  4.15236495e-01  1.75175580e+00 -1.41018247e-01  1.58757671e+00\n",
      "  7.86315711e-01  2.08547682e+00  1.50163973e+00  1.55210036e+00\n",
      " -2.71527519e+00  9.48278392e-02  1.01351968e+00 -1.34468018e+00\n",
      " -5.26349653e-01  9.63386258e-01  3.15698685e+00 -1.98268347e-01\n",
      " -5.48031377e+00  3.79484426e-01  7.42012939e-01  8.76168067e-01\n",
      " -9.53193212e-01 -4.25812909e+00 -6.06007859e-01]\n",
      "0.42520392412401586\n"
     ]
    }
   ],
   "source": [
    "R_squared = model1.score(X_train, y_train)\n",
    "#how well your beta values represent the model\n",
    "print('R_squared:', R_squared)\n",
    "\n",
    "intercept = model1.intercept_\n",
    "coefficients = model1.coef_\n",
    "\n",
    "print('Intercept:', intercept)\n",
    "print('Coefficients:', coefficients)\n",
    "#beta values it calculated\n",
    "\n",
    "# # compute out-of-sample R_squared\n",
    "X_test = df_test.drop(['Data_Value'],axis=1)\n",
    "y_test = df_test['Data_Value']\n",
    "\n",
    "df_predictions = model1.predict(X_test)\n",
    "OSR_squared = model1.score(X_test, y_test)\n",
    "print(OSR_squared)"
   ]
  },
  {
   "cell_type": "code",
   "execution_count": 105,
   "id": "1e485b44",
   "metadata": {},
   "outputs": [],
   "source": [
    "import statsmodels.api as sm\n",
    "from statsmodels.stats.outliers_influence import variance_inflation_factor\n",
    "\n",
    "def VIF(df, columns):\n",
    "    \n",
    "    values = sm.add_constant(df[columns]).values  # the dataframe passed to VIF must include the intercept term. We add it the same way we did before.\n",
    "    num_columns = len(columns)+1\n",
    "    vif = [variance_inflation_factor(values, i) for i in range(num_columns)]\n",
    "    \n",
    "    return pd.Series(vif[1:], index=columns)"
   ]
  },
  {
   "cell_type": "code",
   "execution_count": null,
   "id": "c324eedd",
   "metadata": {},
   "outputs": [],
   "source": [
    "cols = ['']\n",
    "VIF(wine_train, cols)"
   ]
  }
 ],
 "metadata": {
  "kernelspec": {
   "display_name": "Python 3 (ipykernel)",
   "language": "python",
   "name": "python3"
  },
  "language_info": {
   "codemirror_mode": {
    "name": "ipython",
    "version": 3
   },
   "file_extension": ".py",
   "mimetype": "text/x-python",
   "name": "python",
   "nbconvert_exporter": "python",
   "pygments_lexer": "ipython3",
   "version": "3.9.13"
  }
 },
 "nbformat": 4,
 "nbformat_minor": 5
}
