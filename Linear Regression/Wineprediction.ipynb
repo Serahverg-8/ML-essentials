{
 "cells": [
  {
   "cell_type": "markdown",
   "metadata": {},
   "source": [
    "# LAB 2 - LINEAR REGRESSION IN PYTHON\n",
    "\n",
    "In this lab we are going to explore sklearn model for the Multiple Linear Regression (MLR):\n",
    "\n",
    "- 1. MLR with only numerical variables\n",
    "\n",
    "- 2. MLR with numerical + categorical variables\n",
    "\n",
    "In addition, we are going to see the effect of the overfitting through a very simple example. This will be of tremendous importance when models are getting more and more complicated.\n",
    "\n",
    "While the lab uses the `sklearn` package, some of you may be familiar with the statistical software R. R shares some sililarities in the way models are built with another popular package `statsmodels`. This library includes a variety of functions that are helpful for data exploration and statiscal models, its documentation can be found here: https://www.statsmodels.org/stable/index.html"
   ]
  },
  {
   "cell_type": "markdown",
   "metadata": {},
   "source": [
    "    **[Sidenote - Programming Exploration]**\n",
    "\n",
    "Generally speaking, there are two types of programming exploration: \n",
    "\n",
    "1. Finding which function to utilize\n",
    "2. Understanding how to use a function once you've found it \n",
    "\n",
    "For 1   -- Try to target the problem you want to address as succinctly as possible in google.\n",
    "\n",
    "---------- Read the description of the function and what it returns\n",
    "\n",
    "For 2   -- What to do with new functions that you've never seen before? \n",
    "\n",
    "---------- Read the arguments carefully, look at examples, try it out and test output\n",
    "\n",
    "</font>"
   ]
  },
  {
   "cell_type": "markdown",
   "metadata": {},
   "source": [
    "### Load the Data"
   ]
  },
  {
   "cell_type": "code",
   "execution_count": 17,
   "metadata": {},
   "outputs": [
    {
     "name": "stdout",
     "output_type": "stream",
     "text": [
      "Collecting package metadata (current_repodata.json): done\n",
      "Solving environment: done\n",
      "\n",
      "## Package Plan ##\n",
      "\n",
      "  environment location: /Users/serahverg/opt/miniconda3\n",
      "\n",
      "  added / updated specs:\n",
      "    - statsmodels\n",
      "\n",
      "\n",
      "The following packages will be downloaded:\n",
      "\n",
      "    package                    |            build\n",
      "    ---------------------------|-----------------\n",
      "    ca-certificates-2022.6.15  |       h4653dfc_0         149 KB  conda-forge\n",
      "    certifi-2022.6.15          |     pyhd8ed1ab_1         154 KB  conda-forge\n",
      "    openssl-1.1.1q             |       ha287fd2_0         1.8 MB  conda-forge\n",
      "    patsy-0.5.2                |     pyhd8ed1ab_0         188 KB  conda-forge\n",
      "    statsmodels-0.13.2         |   py39h1a28f6b_0         8.4 MB\n",
      "    ------------------------------------------------------------\n",
      "                                           Total:        10.6 MB\n",
      "\n",
      "The following NEW packages will be INSTALLED:\n",
      "\n",
      "  patsy              conda-forge/noarch::patsy-0.5.2-pyhd8ed1ab_0\n",
      "  statsmodels        pkgs/main/osx-arm64::statsmodels-0.13.2-py39h1a28f6b_0\n",
      "\n",
      "The following packages will be UPDATED:\n",
      "\n",
      "  certifi            pkgs/main/osx-arm64::certifi-2022.6.1~ --> conda-forge/noarch::certifi-2022.6.15-pyhd8ed1ab_1\n",
      "\n",
      "The following packages will be SUPERSEDED by a higher-priority channel:\n",
      "\n",
      "  ca-certificates    pkgs/main::ca-certificates-2022.07.19~ --> conda-forge::ca-certificates-2022.6.15-h4653dfc_0\n",
      "  openssl              pkgs/main::openssl-1.1.1q-h1a28f6b_0 --> conda-forge::openssl-1.1.1q-ha287fd2_0\n",
      "\n",
      "\n",
      "\n",
      "Downloading and Extracting Packages\n",
      "ca-certificates-2022 | 149 KB    | ##################################### | 100% \n",
      "openssl-1.1.1q       | 1.8 MB    | ##################################### | 100% \n",
      "patsy-0.5.2          | 188 KB    | ##################################### | 100% \n",
      "statsmodels-0.13.2   | 8.4 MB    | ##################################### | 100% \n",
      "certifi-2022.6.15    | 154 KB    | ##################################### | 100% \n",
      "Preparing transaction: done\n",
      "Verifying transaction: done\n",
      "Executing transaction: done\n",
      "Retrieving notices: ...working... done\n",
      "\n",
      "Note: you may need to restart the kernel to use updated packages.\n"
     ]
    }
   ],
   "source": [
    "conda install -c conda-forge statsmodels"
   ]
  },
  {
   "cell_type": "code",
   "execution_count": 18,
   "metadata": {},
   "outputs": [
    {
     "name": "stdout",
     "output_type": "stream",
     "text": [
      "Collecting package metadata (current_repodata.json): done\n",
      "Solving environment: done\n",
      "\n",
      "## Package Plan ##\n",
      "\n",
      "  environment location: /Users/serahverg/opt/miniconda3\n",
      "\n",
      "  added / updated specs:\n",
      "    - seaborn\n",
      "\n",
      "\n",
      "The following packages will be UPDATED:\n",
      "\n",
      "  ca-certificates    conda-forge::ca-certificates-2022.6.1~ --> pkgs/main::ca-certificates-2022.07.19-hca03da5_0\n",
      "\n",
      "The following packages will be SUPERSEDED by a higher-priority channel:\n",
      "\n",
      "  certifi            conda-forge/noarch::certifi-2022.6.15~ --> pkgs/main/osx-arm64::certifi-2022.6.15-py39hca03da5_0\n",
      "  openssl            conda-forge::openssl-1.1.1q-ha287fd2_0 --> pkgs/main::openssl-1.1.1q-h1a28f6b_0\n",
      "\n",
      "\n",
      "Preparing transaction: done\n",
      "Verifying transaction: done\n",
      "Executing transaction: done\n",
      "Retrieving notices: ...working... done\n",
      "\n",
      "Note: you may need to restart the kernel to use updated packages.\n"
     ]
    }
   ],
   "source": [
    "conda install seaborn"
   ]
  },
  {
   "cell_type": "code",
   "execution_count": 3,
   "metadata": {},
   "outputs": [
    {
     "name": "stderr",
     "output_type": "stream",
     "text": [
      "/Users/serahverg/opt/miniconda3/lib/python3.9/site-packages/scipy/__init__.py:146: UserWarning: A NumPy version >=1.16.5 and <1.23.0 is required for this version of SciPy (detected version 1.23.1\n",
      "  warnings.warn(f\"A NumPy version >={np_minversion} and <{np_maxversion}\"\n"
     ]
    }
   ],
   "source": [
    "## RULE OF THUMB: FOR CODE CLARITY IMPORTS ARE USUALLY PLACED AT THE BEGINNING OF THE NOTEBOOK ##\n",
    "# In this notebook however some imports are made on time to explain why we are making them #\n",
    "import numpy as np # math arrays manipulation\n",
    "import pandas as pd # for data management\n",
    "import os \n",
    "    \n",
    "import matplotlib.pyplot as plt #plots\n",
    "import seaborn as sns #plots"
   ]
  },
  {
   "cell_type": "markdown",
   "metadata": {},
   "source": [
    "As in the previous Lab, we use pandas to read the data from a `.csv` file, and consolidate it into a `Dataframe` object."
   ]
  },
  {
   "cell_type": "code",
   "execution_count": 4,
   "metadata": {},
   "outputs": [
    {
     "name": "stdout",
     "output_type": "stream",
     "text": [
      "<class 'pandas.core.frame.DataFrame'>\n",
      "RangeIndex: 46 entries, 0 to 45\n",
      "Data columns (total 9 columns):\n",
      " #   Column           Non-Null Count  Dtype  \n",
      "---  ------           --------------  -----  \n",
      " 0   Year             46 non-null     int64  \n",
      " 1   LogAuctionIndex  46 non-null     float64\n",
      " 2   WinterRain       46 non-null     float64\n",
      " 3   HarvestRain      46 non-null     float64\n",
      " 4   GrowTemp         46 non-null     float64\n",
      " 5   HarvestTemp      46 non-null     float64\n",
      " 6   Age              46 non-null     int64  \n",
      " 7   FrancePop        46 non-null     float64\n",
      " 8   USAlcConsump     46 non-null     float64\n",
      "dtypes: float64(7), int64(2)\n",
      "memory usage: 3.4 KB\n"
     ]
    }
   ],
   "source": [
    "path = os.getcwd() + \"/wine_agg.csv\" # make sure you are in the correct directory\n",
    "\n",
    "wine = pd.read_csv(path)\n",
    "wine.info()"
   ]
  },
  {
   "cell_type": "code",
   "execution_count": 5,
   "metadata": {},
   "outputs": [
    {
     "data": {
      "text/html": [
       "<div>\n",
       "<style scoped>\n",
       "    .dataframe tbody tr th:only-of-type {\n",
       "        vertical-align: middle;\n",
       "    }\n",
       "\n",
       "    .dataframe tbody tr th {\n",
       "        vertical-align: top;\n",
       "    }\n",
       "\n",
       "    .dataframe thead th {\n",
       "        text-align: right;\n",
       "    }\n",
       "</style>\n",
       "<table border=\"1\" class=\"dataframe\">\n",
       "  <thead>\n",
       "    <tr style=\"text-align: right;\">\n",
       "      <th></th>\n",
       "      <th>Year</th>\n",
       "      <th>LogAuctionIndex</th>\n",
       "      <th>WinterRain</th>\n",
       "      <th>HarvestRain</th>\n",
       "      <th>GrowTemp</th>\n",
       "      <th>HarvestTemp</th>\n",
       "      <th>Age</th>\n",
       "      <th>FrancePop</th>\n",
       "      <th>USAlcConsump</th>\n",
       "    </tr>\n",
       "  </thead>\n",
       "  <tbody>\n",
       "    <tr>\n",
       "      <th>0</th>\n",
       "      <td>1952</td>\n",
       "      <td>7.4950</td>\n",
       "      <td>566.4</td>\n",
       "      <td>165.5</td>\n",
       "      <td>17.28</td>\n",
       "      <td>14.39</td>\n",
       "      <td>63</td>\n",
       "      <td>42.46</td>\n",
       "      <td>7.85</td>\n",
       "    </tr>\n",
       "    <tr>\n",
       "      <th>1</th>\n",
       "      <td>1953</td>\n",
       "      <td>8.0393</td>\n",
       "      <td>653.3</td>\n",
       "      <td>75.6</td>\n",
       "      <td>16.94</td>\n",
       "      <td>17.64</td>\n",
       "      <td>62</td>\n",
       "      <td>42.75</td>\n",
       "      <td>8.03</td>\n",
       "    </tr>\n",
       "    <tr>\n",
       "      <th>2</th>\n",
       "      <td>1955</td>\n",
       "      <td>7.6858</td>\n",
       "      <td>504.3</td>\n",
       "      <td>129.5</td>\n",
       "      <td>17.30</td>\n",
       "      <td>17.13</td>\n",
       "      <td>60</td>\n",
       "      <td>43.43</td>\n",
       "      <td>7.84</td>\n",
       "    </tr>\n",
       "    <tr>\n",
       "      <th>3</th>\n",
       "      <td>1957</td>\n",
       "      <td>6.9845</td>\n",
       "      <td>390.8</td>\n",
       "      <td>110.4</td>\n",
       "      <td>16.31</td>\n",
       "      <td>16.47</td>\n",
       "      <td>58</td>\n",
       "      <td>44.31</td>\n",
       "      <td>7.77</td>\n",
       "    </tr>\n",
       "    <tr>\n",
       "      <th>4</th>\n",
       "      <td>1958</td>\n",
       "      <td>6.7772</td>\n",
       "      <td>538.8</td>\n",
       "      <td>187.0</td>\n",
       "      <td>16.82</td>\n",
       "      <td>19.72</td>\n",
       "      <td>57</td>\n",
       "      <td>44.79</td>\n",
       "      <td>7.74</td>\n",
       "    </tr>\n",
       "  </tbody>\n",
       "</table>\n",
       "</div>"
      ],
      "text/plain": [
       "   Year  LogAuctionIndex  WinterRain  HarvestRain  GrowTemp  HarvestTemp  Age  \\\n",
       "0  1952           7.4950       566.4        165.5     17.28        14.39   63   \n",
       "1  1953           8.0393       653.3         75.6     16.94        17.64   62   \n",
       "2  1955           7.6858       504.3        129.5     17.30        17.13   60   \n",
       "3  1957           6.9845       390.8        110.4     16.31        16.47   58   \n",
       "4  1958           6.7772       538.8        187.0     16.82        19.72   57   \n",
       "\n",
       "   FrancePop  USAlcConsump  \n",
       "0      42.46          7.85  \n",
       "1      42.75          8.03  \n",
       "2      43.43          7.84  \n",
       "3      44.31          7.77  \n",
       "4      44.79          7.74  "
      ]
     },
     "execution_count": 5,
     "metadata": {},
     "output_type": "execute_result"
    }
   ],
   "source": [
    "wine.head(5)"
   ]
  },
  {
   "cell_type": "markdown",
   "metadata": {},
   "source": [
    "## 1. MLR (ONLY NUMERICAL VARIABLES)"
   ]
  },
  {
   "cell_type": "markdown",
   "metadata": {},
   "source": [
    "We will use Linear Regression to predict the quality of the wines as measured by their 'Auction Index'"
   ]
  },
  {
   "cell_type": "code",
   "execution_count": 6,
   "metadata": {},
   "outputs": [
    {
     "data": {
      "image/png": "[encoded data removed]",
      "text/plain": [
       "<Figure size 432x288 with 2 Axes>"
      ]
     },
     "metadata": {
      "needs_background": "light"
     },
     "output_type": "display_data"
    }
   ],
   "source": [
    "data = wine\n",
    "\n",
    "corr = data.corr()\n",
    "ax = sns.heatmap(\n",
    "    corr, \n",
    "    vmin=-1, vmax=1, center=0,\n",
    "    cmap=sns.diverging_palette(20, 220, n=200),\n",
    "    square=True\n",
    ")\n",
    "ax.set_xticklabels(\n",
    "    ax.get_xticklabels(),\n",
    "    rotation=45,\n",
    "    horizontalalignment='right'\n",
    ");"
   ]
  },
  {
   "cell_type": "code",
   "execution_count": 7,
   "metadata": {},
   "outputs": [
    {
     "data": {
      "text/html": [
       "<div>\n",
       "<style scoped>\n",
       "    .dataframe tbody tr th:only-of-type {\n",
       "        vertical-align: middle;\n",
       "    }\n",
       "\n",
       "    .dataframe tbody tr th {\n",
       "        vertical-align: top;\n",
       "    }\n",
       "\n",
       "    .dataframe thead th {\n",
       "        text-align: right;\n",
       "    }\n",
       "</style>\n",
       "<table border=\"1\" class=\"dataframe\">\n",
       "  <thead>\n",
       "    <tr style=\"text-align: right;\">\n",
       "      <th></th>\n",
       "      <th>Year</th>\n",
       "      <th>LogAuctionIndex</th>\n",
       "      <th>WinterRain</th>\n",
       "      <th>HarvestRain</th>\n",
       "      <th>GrowTemp</th>\n",
       "      <th>HarvestTemp</th>\n",
       "      <th>Age</th>\n",
       "      <th>FrancePop</th>\n",
       "      <th>USAlcConsump</th>\n",
       "    </tr>\n",
       "  </thead>\n",
       "  <tbody>\n",
       "    <tr>\n",
       "      <th>Year</th>\n",
       "      <td>1.000000</td>\n",
       "      <td>-0.011346</td>\n",
       "      <td>-0.032424</td>\n",
       "      <td>0.128569</td>\n",
       "      <td>0.600924</td>\n",
       "      <td>0.277000</td>\n",
       "      <td>-1.000000</td>\n",
       "      <td>0.986137</td>\n",
       "      <td>0.131949</td>\n",
       "    </tr>\n",
       "    <tr>\n",
       "      <th>LogAuctionIndex</th>\n",
       "      <td>-0.011346</td>\n",
       "      <td>1.000000</td>\n",
       "      <td>0.058326</td>\n",
       "      <td>-0.525882</td>\n",
       "      <td>0.559727</td>\n",
       "      <td>0.469832</td>\n",
       "      <td>0.011346</td>\n",
       "      <td>-0.076993</td>\n",
       "      <td>-0.271188</td>\n",
       "    </tr>\n",
       "    <tr>\n",
       "      <th>WinterRain</th>\n",
       "      <td>-0.032424</td>\n",
       "      <td>0.058326</td>\n",
       "      <td>1.000000</td>\n",
       "      <td>-0.120258</td>\n",
       "      <td>-0.214181</td>\n",
       "      <td>-0.046874</td>\n",
       "      <td>0.032424</td>\n",
       "      <td>-0.045196</td>\n",
       "      <td>0.004174</td>\n",
       "    </tr>\n",
       "    <tr>\n",
       "      <th>HarvestRain</th>\n",
       "      <td>0.128569</td>\n",
       "      <td>-0.525882</td>\n",
       "      <td>-0.120258</td>\n",
       "      <td>1.000000</td>\n",
       "      <td>0.036437</td>\n",
       "      <td>-0.410439</td>\n",
       "      <td>-0.128569</td>\n",
       "      <td>0.112394</td>\n",
       "      <td>-0.220185</td>\n",
       "    </tr>\n",
       "    <tr>\n",
       "      <th>GrowTemp</th>\n",
       "      <td>0.600924</td>\n",
       "      <td>0.559727</td>\n",
       "      <td>-0.214181</td>\n",
       "      <td>0.036437</td>\n",
       "      <td>1.000000</td>\n",
       "      <td>0.513076</td>\n",
       "      <td>-0.600924</td>\n",
       "      <td>0.516918</td>\n",
       "      <td>-0.352116</td>\n",
       "    </tr>\n",
       "    <tr>\n",
       "      <th>HarvestTemp</th>\n",
       "      <td>0.277000</td>\n",
       "      <td>0.469832</td>\n",
       "      <td>-0.046874</td>\n",
       "      <td>-0.410439</td>\n",
       "      <td>0.513076</td>\n",
       "      <td>1.000000</td>\n",
       "      <td>-0.277000</td>\n",
       "      <td>0.250442</td>\n",
       "      <td>-0.035964</td>\n",
       "    </tr>\n",
       "    <tr>\n",
       "      <th>Age</th>\n",
       "      <td>-1.000000</td>\n",
       "      <td>0.011346</td>\n",
       "      <td>0.032424</td>\n",
       "      <td>-0.128569</td>\n",
       "      <td>-0.600924</td>\n",
       "      <td>-0.277000</td>\n",
       "      <td>1.000000</td>\n",
       "      <td>-0.986137</td>\n",
       "      <td>-0.131949</td>\n",
       "    </tr>\n",
       "    <tr>\n",
       "      <th>FrancePop</th>\n",
       "      <td>0.986137</td>\n",
       "      <td>-0.076993</td>\n",
       "      <td>-0.045196</td>\n",
       "      <td>0.112394</td>\n",
       "      <td>0.516918</td>\n",
       "      <td>0.250442</td>\n",
       "      <td>-0.986137</td>\n",
       "      <td>1.000000</td>\n",
       "      <td>0.269647</td>\n",
       "    </tr>\n",
       "    <tr>\n",
       "      <th>USAlcConsump</th>\n",
       "      <td>0.131949</td>\n",
       "      <td>-0.271188</td>\n",
       "      <td>0.004174</td>\n",
       "      <td>-0.220185</td>\n",
       "      <td>-0.352116</td>\n",
       "      <td>-0.035964</td>\n",
       "      <td>-0.131949</td>\n",
       "      <td>0.269647</td>\n",
       "      <td>1.000000</td>\n",
       "    </tr>\n",
       "  </tbody>\n",
       "</table>\n",
       "</div>"
      ],
      "text/plain": [
       "                     Year  LogAuctionIndex  WinterRain  HarvestRain  GrowTemp  \\\n",
       "Year             1.000000        -0.011346   -0.032424     0.128569  0.600924   \n",
       "LogAuctionIndex -0.011346         1.000000    0.058326    -0.525882  0.559727   \n",
       "WinterRain      -0.032424         0.058326    1.000000    -0.120258 -0.214181   \n",
       "HarvestRain      0.128569        -0.525882   -0.120258     1.000000  0.036437   \n",
       "GrowTemp         0.600924         0.559727   -0.214181     0.036437  1.000000   \n",
       "HarvestTemp      0.277000         0.469832   -0.046874    -0.410439  0.513076   \n",
       "Age             -1.000000         0.011346    0.032424    -0.128569 -0.600924   \n",
       "FrancePop        0.986137        -0.076993   -0.045196     0.112394  0.516918   \n",
       "USAlcConsump     0.131949        -0.271188    0.004174    -0.220185 -0.352116   \n",
       "\n",
       "                 HarvestTemp       Age  FrancePop  USAlcConsump  \n",
       "Year                0.277000 -1.000000   0.986137      0.131949  \n",
       "LogAuctionIndex     0.469832  0.011346  -0.076993     -0.271188  \n",
       "WinterRain         -0.046874  0.032424  -0.045196      0.004174  \n",
       "HarvestRain        -0.410439 -0.128569   0.112394     -0.220185  \n",
       "GrowTemp            0.513076 -0.600924   0.516918     -0.352116  \n",
       "HarvestTemp         1.000000 -0.277000   0.250442     -0.035964  \n",
       "Age                -0.277000  1.000000  -0.986137     -0.131949  \n",
       "FrancePop           0.250442 -0.986137   1.000000      0.269647  \n",
       "USAlcConsump       -0.035964 -0.131949   0.269647      1.000000  "
      ]
     },
     "execution_count": 7,
     "metadata": {},
     "output_type": "execute_result"
    }
   ],
   "source": [
    "wine.corr()"
   ]
  },
  {
   "cell_type": "markdown",
   "metadata": {},
   "source": [
    "### Dataset Train-test Splitting"
   ]
  },
  {
   "cell_type": "markdown",
   "metadata": {},
   "source": [
    "Next, we will split the dataset into a training set and a test set. There are various ways of splitting the dataset, we will first do an example of chronological separation. \n",
    "\n",
    "We are showing chronological splitting using Boolean predicates, the same way we used them in the last lab, to show again how pandas nicely behave with SQL-like query. SIde note on python notation for booleans:\n",
    "- A & B: A and B\n",
    "- A | B: A or B\n",
    "- A == B: True if A is equal to B (works with string as well)\n",
    "- etc"
   ]
  },
  {
   "cell_type": "code",
   "execution_count": null,
   "metadata": {},
   "outputs": [],
   "source": [
    "# Example 1: Year of production split\n",
    "wine_train1 = wine[wine['Year'] <= 1985]\n",
    "wine_test1 = wine[wine['Year'] > 1985]\n",
    "\n",
    "len(wine_train1), len(wine_test1)"
   ]
  },
  {
   "cell_type": "code",
   "execution_count": null,
   "metadata": {},
   "outputs": [],
   "source": [
    "# Produce wine_train2 which is composed of wine that's older than 40\n",
    "wine_train2 = wine[wine['Age'] > 40]\n",
    "\n",
    "# How many rows does this have? (use the function nrows(dataframe)) \n",
    "len(wine_train2)"
   ]
  },
  {
   "cell_type": "code",
   "execution_count": null,
   "metadata": {},
   "outputs": [],
   "source": [
    "# Produce wine.train3 which is composed of wine less than Year 1985 or older than year 1990. \n",
    "wine_train3 = wine[(wine['Year'] <= 1985) | (wine['Year'] > 1990)]\n",
    "\n",
    "# How many rows is the rest of the dataset, other than wine.train3? \n",
    "len(wine_train3)"
   ]
  },
  {
   "cell_type": "markdown",
   "metadata": {},
   "source": [
    "# Are these good ideas? (Why)"
   ]
  },
  {
   "cell_type": "code",
   "execution_count": 12,
   "metadata": {},
   "outputs": [
    {
     "name": "stdout",
     "output_type": "stream",
     "text": [
      "No. of training examples: 37\n",
      "No. of testing examples: 9\n"
     ]
    }
   ],
   "source": [
    "# proper way of splitting the dataset into train and test is randomly!\n",
    "\n",
    "# You can do it manually using pandas!\n",
    "wine_train = wine.sample(frac=0.8, random_state=25)\n",
    "wine_test = wine.drop(wine_train.index)\n",
    "\n",
    "print(f\"No. of training examples: {wine_train.shape[0]}\")\n",
    "print(f\"No. of testing examples: {wine_test.shape[0]}\")"
   ]
  },
  {
   "cell_type": "code",
   "execution_count": 10,
   "metadata": {},
   "outputs": [],
   "source": [
    "from sklearn.model_selection import train_test_split"
   ]
  },
  {
   "cell_type": "code",
   "execution_count": 11,
   "metadata": {},
   "outputs": [
    {
     "name": "stdout",
     "output_type": "stream",
     "text": [
      "No. of training examples: 36\n",
      "No. of testing examples: 10\n"
     ]
    }
   ],
   "source": [
    "# or you can take advantage of sklearn\n",
    "wine_train, wine_test = train_test_split(wine, train_size=0.8, random_state=25)\n",
    "\n",
    "print(f\"No. of training examples: {wine_train.shape[0]}\")\n",
    "print(f\"No. of testing examples: {wine_test.shape[0]}\")\n",
    "\n",
    "## Note the rounding is different if done on your own or with the function"
   ]
  },
  {
   "cell_type": "markdown",
   "metadata": {},
   "source": [
    "# AAA important detail to always keep in mind!!!!!!!!!"
   ]
  },
  {
   "cell_type": "markdown",
   "metadata": {},
   "source": [
    "We will be using some stochastic models, so it's extremely important for you to set a random state (aka seed) for the reproducibility of your results. So, unless it's precisely your intention, please set the random state at the beginning of your stochastic code! "
   ]
  },
  {
   "cell_type": "markdown",
   "metadata": {},
   "source": [
    "# Side note for the future: train, validate, test!"
   ]
  },
  {
   "cell_type": "markdown",
   "metadata": {},
   "source": [
    "We have split the data in training and test. Sometimes, especially when we are not sure about which model is going to be the better performer (or when there are hyperparameters to be tuned), we can try to have a fairer estimate of the test error than the training error. We know that theory says when the number of observations goes to infinty the two errors should be the same, but with finite sample there can be a huge difference (the training error is usually a large underestimation of the test error, why?)\n",
    "\n",
    "In the future we will talk about a 3 way splitting:\n",
    "\n",
    "1. the training set, which we will train the model on, with the set of hyperparameters\n",
    "2. the validation set, which will give us a better estimate of the test error, helping us understanding the real performance of a model\n",
    "3. the test set, which is the set over which we have our predictions made.\n",
    "\n",
    "In general, this is not the only way to validate your model, as you will see cross validation and bootstrapping!"
   ]
  },
  {
   "cell_type": "markdown",
   "metadata": {},
   "source": [
    "## Training the Model"
   ]
  },
  {
   "cell_type": "code",
   "execution_count": 13,
   "metadata": {},
   "outputs": [],
   "source": [
    "from sklearn.linear_model import LinearRegression\n",
    "\n",
    "# choose the features to be used\n",
    "cols = ['WinterRain', 'HarvestRain', 'GrowTemp', 'HarvestTemp', 'Age', 'FrancePop', 'USAlcConsump']\n",
    "X_train = wine_train[cols]\n",
    "y_train = wine_train['LogAuctionIndex']\n",
    "\n",
    "model1 = LinearRegression().fit(X_train, y_train)"
   ]
  },
  {
   "cell_type": "markdown",
   "metadata": {},
   "source": [
    "### Evaluating the model\n",
    "\n",
    "If we want to use evaluation metrics that are not contained in the standard package, such as Out-of-sample R-squared, we can define our own evaluation function and take advantage of `numpy` for certain array computations"
   ]
  },
  {
   "cell_type": "code",
   "execution_count": 14,
   "metadata": {},
   "outputs": [
    {
     "name": "stdout",
     "output_type": "stream",
     "text": [
      "R_squared: 0.7425917605070094\n",
      "Intercept: -2.0790365701478644\n",
      "Coefficients: [ 0.0010056  -0.00426941  0.72850145 -0.03003402  0.00246266 -0.06517306\n",
      "  0.06213694]\n",
      "0.8352830419864786\n"
     ]
    }
   ],
   "source": [
    "R_squared = model1.score(X_train, y_train)\n",
    "#how well your beta values represent the model\n",
    "print('R_squared:', R_squared)\n",
    "\n",
    "intercept = model1.intercept_\n",
    "coefficients = model1.coef_\n",
    "\n",
    "print('Intercept:', intercept)\n",
    "print('Coefficients:', coefficients)\n",
    "#beta values it calculated\n",
    "\n",
    "# # compute out-of-sample R_squared\n",
    "X_test = wine_test[cols]\n",
    "y_test = wine_test['LogAuctionIndex']\n",
    "\n",
    "wine_predictions = model1.predict(X_test)\n",
    "OSR_squared = model1.score(X_test, y_test)\n",
    "print(OSR_squared)\n",
    "\n",
    "\n",
    "#try to explore statsmodel as well"
   ]
  },
  {
   "cell_type": "code",
   "execution_count": 15,
   "metadata": {},
   "outputs": [
    {
     "name": "stdout",
     "output_type": "stream",
     "text": [
      "Out of sample R2: 0.8352830419864786\n",
      "Out of sample adjusted R2: 0.7955237762590769\n"
     ]
    }
   ],
   "source": [
    "## IF YOU WANT YOU CAN COMPUTE YOUR OWN VERSION OF R2 AND OTHER EVALUATION METRICS ##\n",
    "## Compute Out-of-sample R-squared using the test set\n",
    "#this is the test on the new data/real world testing.gives a better value\n",
    "\n",
    "def OSR2(model, df_train, df_test, dependent_var):   \n",
    "    y_test = df_test[dependent_var]\n",
    "    y_pred = model.predict(df_test.loc[:, df_test.columns != dependent_var])\n",
    "    RSS = np.sum((y_test - y_pred)**2)\n",
    "    TSS = np.sum((y_test - np.mean(df_test[dependent_var]))**2)    \n",
    "\n",
    "    return 1 - RSS/TSS\n",
    "\n",
    "## Compute Out-of-sample adjusted R-squared using the test set\n",
    "\n",
    "def adjOSR2(model, df_train, df_test, dependent_var): \n",
    "    n = df_train.shape[0]\n",
    "    k = len(df_test.columns) -1\n",
    "    y_test = df_test[dependent_var]\n",
    "    y_pred = model.predict(df_test.loc[:, df_test.columns != dependent_var])\n",
    "    RSS = np.sum((y_test - y_pred)**2)\n",
    "    TSS = np.sum((y_test - np.mean(df_test[dependent_var]))**2)    \n",
    "\n",
    "    return 1 - (RSS/TSS)*(n-1)/(n-k-1)\n",
    "\n",
    "\n",
    "total_cols = [el for el in cols]\n",
    "total_cols.append('LogAuctionIndex')\n",
    "print(f'Out of sample R2: {OSR2(model1, wine_train[total_cols], wine_test[total_cols], \"LogAuctionIndex\")}')\n",
    "print(f'Out of sample adjusted R2: {adjOSR2(model1, wine_train[total_cols], wine_test[total_cols], \"LogAuctionIndex\")}')"
   ]
  },
  {
   "cell_type": "markdown",
   "metadata": {},
   "source": [
    "### Variance Inflation Factor (VIF)\n",
    "Vif gives a useful information concerning our features about how actually helpful they are in modeling our data.\n",
    "It is a linear regression of one of the regressor against all the others $\\implies$ looking for multicollinearity $\\implies$ if we are getting an $R^2 \\approx 1$ the variable is redundant (and may actually give us a worst test rate)\n",
    "\n",
    "\\begin{equation}\n",
    "    VIF_j = \\frac{1}{1-R_j^2}\n",
    "\\end{equation}"
   ]
  },
  {
   "cell_type": "code",
   "execution_count": 19,
   "metadata": {},
   "outputs": [],
   "source": [
    "# Calculate Variance Inflation Factor for each explanatory variable\n",
    "import statsmodels.api as sm\n",
    "from statsmodels.stats.outliers_influence import variance_inflation_factor\n",
    "\n",
    "def VIF(df, columns):\n",
    "    \n",
    "    values = sm.add_constant(df[columns]).values  # the dataframe passed to VIF must include the intercept term. We add it the same way we did before.\n",
    "    num_columns = len(columns)+1\n",
    "    vif = [variance_inflation_factor(values, i) for i in range(num_columns)]\n",
    "    \n",
    "    return pd.Series(vif[1:], index=columns)"
   ]
  },
  {
   "cell_type": "code",
   "execution_count": 20,
   "metadata": {},
   "outputs": [
    {
     "data": {
      "text/plain": [
       "WinterRain        1.204676\n",
       "HarvestRain       1.507585\n",
       "GrowTemp          3.077595\n",
       "HarvestTemp       1.798802\n",
       "Age             140.068444\n",
       "FrancePop       148.508182\n",
       "USAlcConsump      4.497809\n",
       "dtype: float64"
      ]
     },
     "execution_count": 20,
     "metadata": {},
     "output_type": "execute_result"
    }
   ],
   "source": [
    "cols = ['WinterRain', 'HarvestRain', 'GrowTemp', 'HarvestTemp', 'Age', 'FrancePop', 'USAlcConsump']\n",
    "VIF(wine_train, cols)"
   ]
  },
  {
   "cell_type": "markdown",
   "metadata": {},
   "source": [
    "### A better model..."
   ]
  },
  {
   "cell_type": "code",
   "execution_count": 21,
   "metadata": {},
   "outputs": [
    {
     "data": {
      "text/plain": [
       "WinterRain      1.170934\n",
       "HarvestRain     1.493596\n",
       "GrowTemp        2.960333\n",
       "HarvestTemp     1.778889\n",
       "Age             2.161046\n",
       "USAlcConsump    1.753117\n",
       "dtype: float64"
      ]
     },
     "execution_count": 21,
     "metadata": {},
     "output_type": "execute_result"
    }
   ],
   "source": [
    "# Remove FrancePop\n",
    "#ideally values should be less than 5\n",
    "VIF(wine_train, ['WinterRain', 'HarvestRain', 'GrowTemp', 'HarvestTemp', 'Age', 'USAlcConsump'])"
   ]
  },
  {
   "cell_type": "code",
   "execution_count": 22,
   "metadata": {},
   "outputs": [],
   "source": [
    "#new train without francepop\n",
    "cols = ['WinterRain', 'HarvestRain', 'GrowTemp', 'HarvestTemp', 'Age', 'USAlcConsump']\n",
    "X_train = wine_train[cols]\n",
    "y_train = wine_train['LogAuctionIndex']\n",
    "\n",
    "model2 = LinearRegression().fit(X_train, y_train)"
   ]
  },
  {
   "cell_type": "code",
   "execution_count": 23,
   "metadata": {},
   "outputs": [
    {
     "name": "stdout",
     "output_type": "stream",
     "text": [
      "R_squared: 0.7409696043912073\n",
      "Intercept: -6.127156642471294\n",
      "Coefficients: [ 0.00104183 -0.00431565  0.73884621 -0.03257626  0.02470523  0.02390142]\n",
      "0.8442675355735229\n"
     ]
    }
   ],
   "source": [
    "R_squared = model2.score(X_train, y_train)\n",
    "print('R_squared:', R_squared)\n",
    "\n",
    "intercept = model2.intercept_\n",
    "coefficients = model2.coef_\n",
    "\n",
    "print('Intercept:', intercept)\n",
    "print('Coefficients:', coefficients)\n",
    "\n",
    "# # compute out-of-sample R_squared\n",
    "X_test = wine_test[cols]\n",
    "y_test = wine_test['LogAuctionIndex']\n",
    "\n",
    "wine_predictions = model2.predict(X_test)\n",
    "OSR_squared = model2.score(X_test, y_test)\n",
    "print(OSR_squared)"
   ]
  },
  {
   "cell_type": "markdown",
   "metadata": {},
   "source": [
    "### Feature Engineering\n",
    "Remove USAlcConsump --> questioning some features from experience (is there a real correlation with how wine is produced?)"
   ]
  },
  {
   "cell_type": "code",
   "execution_count": 24,
   "metadata": {},
   "outputs": [
    {
     "name": "stdout",
     "output_type": "stream",
     "text": [
      "R_squared: 0.7399772004058665\n",
      "Intercept: -5.454818334791947\n",
      "Coefficients: [ 0.00100655 -0.00435847  0.71513392 -0.03080978  0.02344919]\n",
      "0.8492074170180677\n"
     ]
    }
   ],
   "source": [
    "cols = ['WinterRain', 'HarvestRain', 'GrowTemp', 'HarvestTemp', 'Age']\n",
    "X_train = wine_train[cols]\n",
    "y_train = wine_train['LogAuctionIndex']\n",
    "\n",
    "model3 = LinearRegression().fit(X_train, y_train)\n",
    "\n",
    "R_squared = model3.score(X_train, y_train)\n",
    "print('R_squared:', R_squared)\n",
    "\n",
    "intercept = model3.intercept_\n",
    "coefficients = model3.coef_\n",
    "\n",
    "print('Intercept:', intercept)\n",
    "print('Coefficients:', coefficients)\n",
    "\n",
    "# # compute out-of-sample R_squared\n",
    "X_test = wine_test[cols]\n",
    "y_test = wine_test['LogAuctionIndex']\n",
    "\n",
    "wine_predictions = model3.predict(X_test)\n",
    "OSR_squared = model3.score(X_test, y_test)\n",
    "print(OSR_squared)"
   ]
  },
  {
   "cell_type": "markdown",
   "metadata": {},
   "source": [
    "## 2. MLR (NUMERICAL + CATEGORICAL VARIABLES)\n",
    "\n",
    "For this part, we will use a second dataset, `wine_disagg.csv`, which contains additional information related to the Wineries. The `Winery` variable is a `string object`, but we can do some transformations that will help us fit it into the continuous model\n",
    "This is if we have categorical values as well"
   ]
  },
  {
   "cell_type": "markdown",
   "metadata": {},
   "source": [
    "### Two Wineries\n",
    "Before constructing a complete model for all the wineries, let's first attempt to regress on only 2 wineries. We pick Cheval Blanc and Cos d'Estournel as an example"
   ]
  },
  {
   "cell_type": "code",
   "execution_count": null,
   "metadata": {},
   "outputs": [],
   "source": [
    "#import cell missing"
   ]
  },
  {
   "cell_type": "code",
   "execution_count": null,
   "metadata": {},
   "outputs": [],
   "source": [
    "wine_two = wine_new[(wine_new['Winery'] == 'Cheval Blanc') | (wine_new['Winery'] == 'Cos d\\'Estournel')]\n",
    "\n",
    "wine_two_train = wine_two.sample(frac=0.8, random_state=25)\n",
    "wine_two_test = wine_two.drop(wine_two_train.index)\n",
    "wine_two_train.tail()"
   ]
  },
  {
   "cell_type": "markdown",
   "metadata": {},
   "source": [
    "### Passing a categorical variable\n",
    "To use a categorical variables like `Winery`, we have to manipulate the string first, getting a dummy variable and finally we can simply pass it to the formula."
   ]
  },
  {
   "cell_type": "code",
   "execution_count": null,
   "metadata": {},
   "outputs": [],
   "source": [
    "cols = ['Winery','WinterRain', 'HarvestRain', 'GrowTemp', 'HarvestTemp', 'Age']\n",
    "X_train = wine_two_train[cols]\n",
    "X_train = pd.get_dummies(data=X_train, drop_first=True)\n",
    "y_train = wine_two_train['LogAuction']\n",
    "\n",
    "model5 = LinearRegression().fit(X_train, y_train)\n",
    "\n",
    "R_squared = model5.score(X_train, y_train)\n",
    "print('R_squared:', R_squared)"
   ]
  },
  {
   "cell_type": "markdown",
   "metadata": {},
   "source": [
    "### More Wineries\n",
    "Now let's expand to the complete set of values that `Winery` can take:"
   ]
  },
  {
   "cell_type": "code",
   "execution_count": null,
   "metadata": {},
   "outputs": [],
   "source": [
    "X_train = wine_new_train[cols]\n",
    "X_train = pd.get_dummies(data=X_train, drop_first=True)\n",
    "y_train = wine_new_train['LogAuction']\n",
    "\n",
    "model6 = LinearRegression().fit(X_train, y_train)\n",
    "\n",
    "R_squared = model6.score(X_train, y_train)\n",
    "print('R_squared:', R_squared)\n",
    "\n",
    "#with the winery feature the score increased"
   ]
  },
  {
   "cell_type": "markdown",
   "metadata": {},
   "source": [
    "# OVERFITTING: INTUITION ON A LOW DIMENSIONAL CASE"
   ]
  },
  {
   "cell_type": "code",
   "execution_count": 25,
   "metadata": {},
   "outputs": [],
   "source": [
    "import numpy as np\n",
    "import pandas as pd\n",
    "import os"
   ]
  },
  {
   "cell_type": "code",
   "execution_count": 26,
   "metadata": {},
   "outputs": [
    {
     "name": "stdout",
     "output_type": "stream",
     "text": [
      "                            OLS Regression Results                            \n",
      "==============================================================================\n",
      "Dep. Variable:                      y   R-squared:                       1.000\n",
      "Model:                            OLS   Adj. R-squared:                   -inf\n",
      "Method:                 Least Squares   F-statistic:                       nan\n",
      "Date:                Fri, 02 Sep 2022   Prob (F-statistic):                nan\n",
      "Time:                        12:42:46   Log-Likelihood:                 58.026\n",
      "No. Observations:                  10   AIC:                            -96.05\n",
      "Df Residuals:                       0   BIC:                            -93.03\n",
      "Df Model:                           9                                         \n",
      "Covariance Type:            nonrobust                                         \n",
      "==============================================================================\n",
      "                 coef    std err          t      P>|t|      [0.025      0.975]\n",
      "------------------------------------------------------------------------------\n",
      "const         23.3262        inf          0        nan         nan         nan\n",
      "x1           -48.2851        inf         -0        nan         nan         nan\n",
      "x2            36.3135        inf          0        nan         nan         nan\n",
      "x3           -13.6425        inf         -0        nan         nan         nan\n",
      "x4             2.9445        inf          0        nan         nan         nan\n",
      "x5            -0.3854        inf         -0        nan         nan         nan\n",
      "x6             0.0310        inf          0        nan         nan         nan\n",
      "x7            -0.0015        inf         -0        nan         nan         nan\n",
      "x8          3.933e-05        inf          0        nan         nan         nan\n",
      "x9         -4.366e-07        inf         -0        nan         nan         nan\n",
      "==============================================================================\n",
      "Omnibus:                        0.966   Durbin-Watson:                   0.076\n",
      "Prob(Omnibus):                  0.617   Jarque-Bera (JB):                0.784\n",
      "Skew:                          -0.498   Prob(JB):                        0.676\n",
      "Kurtosis:                       2.058   Cond. No.                     1.10e+14\n",
      "==============================================================================\n",
      "\n",
      "Notes:\n",
      "[1] Standard Errors assume that the covariance matrix of the errors is correctly specified.\n",
      "[2] The condition number is large, 1.1e+14. This might indicate that there are\n",
      "strong multicollinearity or other numerical problems.\n"
     ]
    },
    {
     "name": "stderr",
     "output_type": "stream",
     "text": [
      "/Users/serahverg/opt/miniconda3/lib/python3.9/site-packages/scipy/stats/stats.py:1541: UserWarning: kurtosistest only valid for n>=20 ... continuing anyway, n=10\n",
      "  warnings.warn(\"kurtosistest only valid for n>=20 ... continuing \"\n",
      "/Users/serahverg/opt/miniconda3/lib/python3.9/site-packages/statsmodels/regression/linear_model.py:1749: RuntimeWarning: divide by zero encountered in divide\n",
      "  return 1 - (np.divide(self.nobs - self.k_constant, self.df_resid)\n",
      "/Users/serahverg/opt/miniconda3/lib/python3.9/site-packages/statsmodels/regression/linear_model.py:1671: RuntimeWarning: divide by zero encountered in double_scalars\n",
      "  return np.dot(wresid, wresid) / self.df_resid\n",
      "/var/folders/1j/vhrxwjz94tn0tsz00qlnqw8m0000gn/T/ipykernel_10738/2473557030.py:32: VisibleDeprecationWarning: Creating an ndarray from ragged nested sequences (which is a list-or-tuple of lists-or-tuples-or ndarrays with different lengths or shapes) is deprecated. If you meant to do this, you must specify 'dtype=object' when creating the ndarray.\n",
      "  y_grid = model.params*X_grid\n"
     ]
    }
   ],
   "source": [
    "S = 10\n",
    "x = np.linspace(start=1, stop=20, num=S)\n",
    "#10 points between 1 and 20\n",
    "beta = 0.4\n",
    "eps = np.random.normal(size = S)\n",
    "#noise epsilon\n",
    "\n",
    "true_y = beta*x\n",
    "y = beta*x + eps\n",
    "\n",
    "\n",
    "\n",
    "import statsmodels.api as sm\n",
    "\n",
    "# Featured to be used, x and its powers up to 10\n",
    "X_train = []\n",
    "for i in range(9):\n",
    "    X_train.append(x**(i+1))\n",
    "\n",
    "X_train = np.array(X_train).T\n",
    "y_train = y\n",
    "\n",
    "# We must add an intercept as the standard model doesn't automatically fit one\n",
    "X_train = sm.add_constant(X_train)\n",
    "\n",
    "# fit the data to the model\n",
    "model = sm.OLS(y_train, X_train).fit()\n",
    "\n",
    "print(model.summary())\n",
    "\n",
    "x_grid = np.arange(1, 20, 0.01)\n",
    "X_grid = [np.ones(S)]\n",
    "for i in range(9):\n",
    "    X_grid.append(x_grid**(i+1))\n",
    "    \n",
    "import matplotlib.pyplot as plt\n",
    "y_grid = model.params*X_grid"
   ]
  },
  {
   "cell_type": "code",
   "execution_count": 27,
   "metadata": {},
   "outputs": [
    {
     "data": {
      "text/plain": [
       "[<matplotlib.lines.Line2D at 0x14ac7d1f0>]"
      ]
     },
     "execution_count": 27,
     "metadata": {},
     "output_type": "execute_result"
    },
    {
     "data": {
      "image/png": "[encoded data removed]",
      "text/plain": [
       "<Figure size 432x288 with 1 Axes>"
      ]
     },
     "metadata": {
      "needs_background": "light"
     },
     "output_type": "display_data"
    }
   ],
   "source": [
    "curve = np.flip(np.array(model.params))\n",
    "y_2 = [np.polyval(curve, i) for i in x_grid]\n",
    "plt.plot(x_grid,y_2)\n",
    "plt.plot(x, y, 'o', color='red')"
   ]
  },
  {
   "cell_type": "code",
   "execution_count": 29,
   "metadata": {},
   "outputs": [],
   "source": [
    "X_train = x\n",
    "X_train = sm.add_constant(X_train)\n",
    "\n",
    "# fit the data to the model\n",
    "model = sm.OLS(y_train, X_train).fit()\n"
   ]
  },
  {
   "cell_type": "code",
   "execution_count": 30,
   "metadata": {},
   "outputs": [
    {
     "name": "stderr",
     "output_type": "stream",
     "text": [
      "/var/folders/1j/vhrxwjz94tn0tsz00qlnqw8m0000gn/T/ipykernel_10738/2186474857.py:5: VisibleDeprecationWarning: Creating an ndarray from ragged nested sequences (which is a list-or-tuple of lists-or-tuples-or ndarrays with different lengths or shapes) is deprecated. If you meant to do this, you must specify 'dtype=object' when creating the ndarray.\n",
      "  y_grid = model.params*X_grid\n"
     ]
    },
    {
     "data": {
      "text/plain": [
       "[<matplotlib.lines.Line2D at 0x14ae19850>]"
      ]
     },
     "execution_count": 30,
     "metadata": {},
     "output_type": "execute_result"
    },
    {
     "data": {
      "image/png": "[encoded data removed]",
      "text/plain": [
       "<Figure size 432x288 with 1 Axes>"
      ]
     },
     "metadata": {
      "needs_background": "light"
     },
     "output_type": "display_data"
    }
   ],
   "source": [
    "x_grid = np.arange(1, 20, 0.01)\n",
    "X_grid = [np.ones(S)]\n",
    "\n",
    "X_grid.append(x_grid)\n",
    "y_grid = model.params*X_grid\n",
    "curve = np.flip(np.array(model.params))\n",
    "y_2 = [np.polyval(curve, i) for i in x_grid]\n",
    "plt.plot(x_grid,y_2)\n",
    "plt.plot(x, y, 'o', color='red')"
   ]
  },
  {
   "cell_type": "code",
   "execution_count": null,
   "metadata": {},
   "outputs": [],
   "source": [
    "###### EXERCISE (IF YOU WANT TO PLAY AROUND WITH SOME VERY WELL STRUCTURED DATA) ######\n",
    "path = os.getcwd() + \"/cancer_reg.csv\"\n",
    "dataset = pd.read_csv(path, encoding='latin-1')\n",
    "dataset.info()"
   ]
  },
  {
   "cell_type": "code",
   "execution_count": null,
   "metadata": {},
   "outputs": [],
   "source": [
    "dataset.describe()"
   ]
  },
  {
   "cell_type": "code",
   "execution_count": null,
   "metadata": {},
   "outputs": [],
   "source": []
  }
 ],
 "metadata": {
  "kernelspec": {
   "display_name": "Python 3 (ipykernel)",
   "language": "python",
   "name": "python3"
  },
  "language_info": {
   "codemirror_mode": {
    "name": "ipython",
    "version": 3
   },
   "file_extension": ".py",
   "mimetype": "text/x-python",
   "name": "python",
   "nbconvert_exporter": "python",
   "pygments_lexer": "ipython3",
   "version": "3.9.13"
  }
 },
 "nbformat": 4,
 "nbformat_minor": 4
}
